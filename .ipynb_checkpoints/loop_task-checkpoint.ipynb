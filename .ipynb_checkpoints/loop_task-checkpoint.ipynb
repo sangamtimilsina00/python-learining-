{
 "cells": [
  {
   "cell_type": "markdown",
   "id": "329014bf-8218-40d2-b15e-b88bff650579",
   "metadata": {},
   "source": [
    "Problem 1 - Exercise 12: Display Fibonacci series up to 10 terms.\n",
    "Note: The Fibonacci Sequence is a series of numbers. The next number is found by adding up the two numbers before it. The first two numbers are 0 and 1. For example, 0, 1, 1, 2, 3, 5, 8, 13, 21. The next number in this series above is 13+21 = 34"
   ]
  },
  {
   "cell_type": "code",
   "execution_count": 1,
   "id": "13a9f2f6-6150-4676-bc5e-a619bf30043f",
   "metadata": {},
   "outputs": [
    {
     "name": "stdout",
     "output_type": "stream",
     "text": [
      "0\t1\t1\t2\t3\t5\t8\t13\t21\t34\t"
     ]
    }
   ],
   "source": [
    "n=10\n",
    "a=0\n",
    "b=1\n",
    "sum=0\n",
    "print(a,end=\"\\t\")\n",
    "print(b,end=\"\\t\")\n",
    "for i in range(10-2):\n",
    "    sum=a+b\n",
    "    a=b\n",
    "    b=sum\n",
    "    print(sum,end=\"\\t\")\n",
    "        "
   ]
  },
  {
   "cell_type": "code",
   "execution_count": 2,
   "id": "964c1015-0c3f-4790-9ddc-0a41dc757b22",
   "metadata": {},
   "outputs": [
    {
     "name": "stdout",
     "output_type": "stream",
     "text": [
      "24567\n"
     ]
    }
   ],
   "source": [
    "n=76542\n",
    "count=0\n",
    "if n//10==0:\n",
    "    print(n)\n",
    "else:\n",
    "    while n%10!=0:\n",
    "        r=n%10\n",
    "        count=count*10+r\n",
    "        n=n//10\n",
    "print(count)"
   ]
  },
  {
   "cell_type": "markdown",
   "id": "8c23480a-d60a-4ea6-b04f-8c63c95be43b",
   "metadata": {},
   "source": [
    "\n",
    "Problem 3: Take a user input as integer N. Find out the sum from 1 to N. If any number if divisible by 5, then skip that number. And if the sum is greater than 300, don't need to calculate the sum further more. Print the final result. And don't use for loop to solve this problem. use concept of break and continue"
   ]
  },
  {
   "cell_type": "code",
   "execution_count": 3,
   "id": "2a9df3eb-4377-4e0b-a263-126631ae4900",
   "metadata": {},
   "outputs": [
    {
     "name": "stdin",
     "output_type": "stream",
     "text": [
      "Enter an integer  155\n"
     ]
    },
    {
     "name": "stdout",
     "output_type": "stream",
     "text": [
      "303\n"
     ]
    }
   ],
   "source": [
    "n=int(input(\"Enter an integer \"))\n",
    "sum=0\n",
    "for i in range(1,n+1):\n",
    "    if i%5==0:\n",
    "        continue\n",
    "    sum+=i\n",
    "    if sum>300:\n",
    "        break\n",
    "print(sum)\n",
    "\n"
   ]
  },
  {
   "cell_type": "raw",
   "id": "20cc2803-00da-4c69-8761-799ee4afc5e9",
   "metadata": {},
   "source": [
    "Problem 4: Write a program that keeps on accepting a number from the user until the user enters Zero. Display the sum and average of all the numbers.\n"
   ]
  },
  {
   "cell_type": "code",
   "execution_count": 4,
   "id": "ec6aced0-222f-4c18-b855-ab35b17a955e",
   "metadata": {},
   "outputs": [
    {
     "name": "stdin",
     "output_type": "stream",
     "text": [
      "Enter the number 2\n",
      "Enter the number 2\n",
      "Enter the number 6\n",
      "Enter the number 0\n"
     ]
    },
    {
     "name": "stdout",
     "output_type": "stream",
     "text": [
      "sum is  10\n",
      "average is  3.3333333333333335\n"
     ]
    }
   ],
   "source": [
    "# n=int(input(\"enter a number \"))\n",
    "x=0\n",
    "sum1=0\n",
    "avg1=0\n",
    "while True:   \n",
    "    n=int(input(\"Enter the number\"))\n",
    "    if n==0:\n",
    "        print(\"sum is \",sum1)\n",
    "        print(\"average is \",avg1)\n",
    "        break\n",
    "  \n",
    "    sum1+=n\n",
    "    x+=1\n",
    "    avg1=sum1/x\n",
    "    \n",
    "    \n",
    "        \n",
    "    "
   ]
  },
  {
   "cell_type": "markdown",
   "id": "78b507ab-8c95-439f-9059-465fc29c5152",
   "metadata": {},
   "source": [
    "Write a program which will find all such numbers which are divisible by 7 but are not a multiple of 5, between 2000 and 3200 (both included). The numbers obtained should be printed in a comma-separated sequence on a single line."
   ]
  },
  {
   "cell_type": "code",
   "execution_count": 5,
   "id": "f2659a88-a04e-4f84-a083-8d379097204c",
   "metadata": {},
   "outputs": [
    {
     "name": "stdout",
     "output_type": "stream",
     "text": [
      "2002,2009,2016,2023,2037,2044,2051,2058,2072,2079,2086,2093,2107,2114,2121,2128,2142,2149,2156,2163,2177,2184,2191,2198,2212,2219,2226,2233,2247,2254,2261,2268,2282,2289,2296,2303,2317,2324,2331,2338,2352,2359,2366,2373,2387,2394,2401,2408,2422,2429,2436,2443,2457,2464,2471,2478,2492,2499,2506,2513,2527,2534,2541,2548,2562,2569,2576,2583,2597,2604,2611,2618,2632,2639,2646,2653,2667,2674,2681,2688,2702,2709,2716,2723,2737,2744,2751,2758,2772,2779,2786,2793,2807,2814,2821,2828,2842,2849,2856,2863,2877,2884,2891,2898,2912,2919,2926,2933,2947,2954,2961,2968,2982,2989,2996,3003,3017,3024,3031,3038,3052,3059,3066,3073,3087,3094,3101,3108,3122,3129,3136,3143,3157,3164,3171,3178,3192,3199,"
     ]
    }
   ],
   "source": [
    "for i in range(2000,3201):\n",
    "    if i%7==0 and i%5!=0:\n",
    "        print(f'{i},',end='')"
   ]
  },
  {
   "cell_type": "markdown",
   "id": "72d537d0-8c1d-46d8-b4ff-4a9e4d327b28",
   "metadata": {},
   "source": [
    " Write a program, which will find all such numbers between 1000 and 3000 (both included) such that each digit of the number is an even number. The numbers obtained should be printed in a space-separated sequence on a single line."
   ]
  },
  {
   "cell_type": "code",
   "execution_count": 6,
   "id": "d7963bf1-0b47-46d4-94ad-45be9808dcd7",
   "metadata": {},
   "outputs": [
    {
     "name": "stdout",
     "output_type": "stream",
     "text": [
      "2000 2002 2004 2006 2008 2020 2022 2024 2026 2028 2040 2042 2044 2046 2048 2060 2062 2064 2066 2068 2080 2082 2084 2086 2088 2200 2202 2204 2206 2208 2220 2222 2224 2226 2228 2240 2242 2244 2246 2248 2260 2262 2264 2266 2268 2280 2282 2284 2286 2288 2400 2402 2404 2406 2408 2420 2422 2424 2426 2428 2440 2442 2444 2446 2448 2460 2462 2464 2466 2468 2480 2482 2484 2486 2488 2600 2602 2604 2606 2608 2620 2622 2624 2626 2628 2640 2642 2644 2646 2648 2660 2662 2664 2666 2668 2680 2682 2684 2686 2688 2800 2802 2804 2806 2808 2820 2822 2824 2826 2828 2840 2842 2844 2846 2848 2860 2862 2864 2866 2868 2880 2882 2884 2886 2888 "
     ]
    }
   ],
   "source": [
    "for i in range(1000,3001,2):\n",
    "    x=i\n",
    "    e=False\n",
    "    while x>0:\n",
    "        digit=x%10\n",
    "        if digit%2!=0:\n",
    "            e=False\n",
    "            break\n",
    "        else:\n",
    "            e=True\n",
    "            x//=10\n",
    "    if e==True:\n",
    "        print(i,end=\" \")"
   ]
  },
  {
   "cell_type": "markdown",
   "id": "126238c1-a611-4ed7-a153-cf7d6ffa3d1c",
   "metadata": {},
   "source": [
    ":Write a program to print whether a given number is a prime number or not"
   ]
  },
  {
   "cell_type": "code",
   "execution_count": 29,
   "id": "916949c9-4ccf-487a-aedd-316caf0965df",
   "metadata": {},
   "outputs": [
    {
     "name": "stdin",
     "output_type": "stream",
     "text": [
      "enter the number 19\n"
     ]
    },
    {
     "name": "stdout",
     "output_type": "stream",
     "text": [
      "Prime\n"
     ]
    }
   ],
   "source": [
    "n=int(input(\"enter the number\"))\n",
    "if (n==1) or (n==0):\n",
    "    print(\"not prime\")\n",
    "if n==2:\n",
    "    print(\"prime\")\n",
    "for i in range(2,n):\n",
    " \n",
    "    if n%i==0:\n",
    "        print(\"not prime\")\n",
    "        break\n",
    "    else:\n",
    "        print(\"Prime\")\n",
    "        break\n",
    "   \n",
    "        "
   ]
  },
  {
   "cell_type": "markdown",
   "id": "e1e1dd4c-5616-4f39-8f3d-ceb711bb3f51",
   "metadata": {},
   "source": [
    "Print all the Armstrong numbers in a given range."
   ]
  },
  {
   "cell_type": "code",
   "execution_count": 12,
   "id": "299547eb-1fb7-4b2f-94c1-613f49c549de",
   "metadata": {},
   "outputs": [
    {
     "name": "stdout",
     "output_type": "stream",
     "text": [
      "0\n",
      "1\n",
      "153\n",
      "370\n",
      "371\n",
      "407\n"
     ]
    }
   ],
   "source": [
    "for i in range(100000):\n",
    "    cube=0\n",
    "    x=i\n",
    "    while x>0:\n",
    "        r=x%10\n",
    "        cube+=r**3\n",
    "        x//=10\n",
    "    if cube==i:\n",
    "        print(i)\n",
    "    \n",
    "    \n"
   ]
  },
  {
   "cell_type": "markdown",
   "id": "796c9dc1-156e-4e84-8180-e761455b901d",
   "metadata": {},
   "source": [
    "Program 9 - The current population of a town is 10000. The population of the town is increasing at the rate of 10% per year. You have to write a program to find out the population at the end of each of the last 10 years."
   ]
  },
  {
   "cell_type": "code",
   "execution_count": 14,
   "id": "f9bf4c2c-32b9-4956-9282-dd7a641c1fc4",
   "metadata": {},
   "outputs": [
    {
     "data": {
      "text/plain": [
       "25937"
      ]
     },
     "execution_count": 14,
     "metadata": {},
     "output_type": "execute_result"
    }
   ],
   "source": [
    "cur_pop=10000\n",
    "n=10\n",
    "pop_ten=int(cur_pop*(1.1)**10)\n",
    "pop_ten"
   ]
  },
  {
   "cell_type": "markdown",
   "id": "f7c329d2-be2d-43be-bfe5-4cd84d933b57",
   "metadata": {},
   "source": [
    "program 10: Sequence sum\n",
    "1/1! + 2/2! + 3/3! + ..."
   ]
  },
  {
   "cell_type": "code",
   "execution_count": 17,
   "id": "d15bd73c-6ce9-4df2-92ea-70b1954e404e",
   "metadata": {},
   "outputs": [
    {
     "name": "stdin",
     "output_type": "stream",
     "text": [
      "Enter a number  10\n"
     ]
    },
    {
     "name": "stdout",
     "output_type": "stream",
     "text": [
      "1/1!+ 2/2!+ 3/3!+ 4/4!+ 5/5!+ 6/6!+ 7/7!+ 8/8!+ 9/9!+ 10/10!+ "
     ]
    }
   ],
   "source": [
    "n=int(input(\"Enter a number \"))\n",
    "for i in range(1,n+1):\n",
    "    print(f'{i}/{i}!+',end=\" \")"
   ]
  },
  {
   "cell_type": "markdown",
   "id": "de4541b8-eaef-4ecc-ac64-23e06f571cf8",
   "metadata": {},
   "source": [
    "Program 11 find all unique pairs of 1,2"
   ]
  },
  {
   "cell_type": "code",
   "execution_count": 19,
   "id": "36ed93d6-9115-4485-b1c1-d57b03ebec2f",
   "metadata": {},
   "outputs": [
    {
     "name": "stdout",
     "output_type": "stream",
     "text": [
      "1 1 1\n",
      "1 1 2\n",
      "1 2 1\n",
      "1 2 2\n",
      "2 1 1\n",
      "2 1 2\n",
      "2 2 1\n",
      "2 2 2\n"
     ]
    }
   ],
   "source": [
    "for i in range(1,3):\n",
    "    for j in range(1,3):\n",
    "        for k in range(1,3):\n",
    "            print(i,j,k)\n",
    "            "
   ]
  },
  {
   "cell_type": "code",
   "execution_count": 31,
   "id": "25e4cb91-5936-4f67-94ef-764b9cd1a5e7",
   "metadata": {},
   "outputs": [
    {
     "name": "stdin",
     "output_type": "stream",
     "text": [
      " Enter a string  abc\n"
     ]
    },
    {
     "name": "stdout",
     "output_type": "stream",
     "text": [
      " \n",
      " a\n",
      " b\n",
      " ab\n",
      " c\n",
      " ac\n",
      " bc\n",
      " abc\n"
     ]
    }
   ],
   "source": [
    "# Program 12 Python Code to Generate All Possible Combinations of Characters in a String\n",
    "\n",
    "x=input(\" Enter a string \")\n",
    "n=len(x)\n",
    "results=[]\n",
    "for i in range(2**n):\n",
    "    comb=\" \"\n",
    "    for j in range(n):\n",
    "        if (i>>j) & 1:\n",
    "            comb+=x[j]\n",
    "    if comb not in results:\n",
    "        results.append(comb)\n",
    "for i in results:\n",
    "    print(i)\n",
    "\n"
   ]
  },
  {
   "cell_type": "code",
   "execution_count": null,
   "id": "15f1b009-9b44-4d0e-b6a6-fbfc4de9c423",
   "metadata": {},
   "outputs": [],
   "source": []
  }
 ],
 "metadata": {
  "kernelspec": {
   "display_name": "Python 3 (ipykernel)",
   "language": "python",
   "name": "python3"
  },
  "language_info": {
   "codemirror_mode": {
    "name": "ipython",
    "version": 3
   },
   "file_extension": ".py",
   "mimetype": "text/x-python",
   "name": "python",
   "nbconvert_exporter": "python",
   "pygments_lexer": "ipython3",
   "version": "3.12.3"
  }
 },
 "nbformat": 4,
 "nbformat_minor": 5
}
