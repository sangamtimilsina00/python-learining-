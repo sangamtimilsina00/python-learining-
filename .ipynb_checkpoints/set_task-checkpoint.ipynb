{
 "cells": [
  {
   "cell_type": "code",
   "execution_count": 9,
   "id": "3e74e965-54cf-42cf-9cfd-0a6d87a23167",
   "metadata": {},
   "outputs": [
    {
     "name": "stdout",
     "output_type": "stream",
     "text": [
      "{5, 6}\n",
      "{8, 7}\n"
     ]
    }
   ],
   "source": [
    "# 1. Customer Churn Triangulation\n",
    "active_2023 = {1,2,3,4,5,6}\n",
    "active_2024 = {4,5,6,7,8}\n",
    "active_2025 = {5,6,9,10}\n",
    "\n",
    "#  Find loyal customers active in all 3 years.\n",
    "#  Find customers who came in 2024 but left in 2025.\n",
    "#  Find customers who were only ever active in 2025.\n",
    "\n",
    "print(active_2023.intersection(active_2024,active_2025))\n",
    "print(active_2024.difference(active_2025).difference(active_2023))\n",
    "print(active_"
   ]
  },
  {
   "cell_type": "code",
   "execution_count": 13,
   "id": "8786daad-eefb-4ee6-99ba-31c07357ab48",
   "metadata": {},
   "outputs": [
    {
     "name": "stdout",
     "output_type": "stream",
     "text": [
      "{'TXN5', 'TXN3'}\n",
      "{'TXN1', 'TXN6', 'TXN4', 'TXN2'}\n"
     ]
    }
   ],
   "source": [
    "# 2. Fraud Detection with Sets\n",
    "sys_A = {\"TXN1\", \"TXN2\", \"TXN3\", \"TXN5\"}\n",
    "sys_B = {\"TXN3\", \"TXN4\", \"TXN5\", \"TXN6\"}\n",
    "\n",
    "#  Find frauds detected by both systems.\n",
    "#  Find frauds missed by one system but caught by the other.\n",
    "#  Find frauds missed by both systems if the universe of frauds is:\n",
    "\n",
    "print(sys_A&sys_B)\n",
    "print(sys_A.symmetric_difference(sys_B))"
   ]
  },
  {
   "cell_type": "code",
   "execution_count": 27,
   "id": "adc1b16a-e6c7-4445-af77-7491b19a2e5b",
   "metadata": {},
   "outputs": [
    {
     "name": "stdout",
     "output_type": "stream",
     "text": [
      "{'Milk', 'Bread', 'Butter'}\n",
      "{'Cheese'}\n",
      "{'Eggs'}\n"
     ]
    }
   ],
   "source": [
    "# 3. Market Basket Ultra Analysis\n",
    "basket1 = {\"Milk\", \"Eggs\", \"Bread\", \"Butter\"}\n",
    "basket2 = {\"Milk\", \"Bread\", \"Butter\", \"Cheese\"}\n",
    "basket3 = {\"Eggs\", \"Milk\", \"Bread\", \"Butter\"}\n",
    "#  Find items always purchased together across all baskets.\n",
    "#  Find items unique to each basket.\n",
    "#  Find items that appear in at least 2 baskets but not all 3.\n",
    "\n",
    "print(basket1.intersection(basket3,basket2))\n",
    "uniq_b1=basket1.difference(basket2 | basket3)\n",
    "uniq_b2=basket2-(basket1 | basket3)\n",
    "uniq_b3=basket3-(basket2 | basket3)\n",
    "print(uniq_b1|uniq_b2|uniq_b3)\n",
    "print(((basket1 & basket2)|(basket2 & basket3) |(basket1 & basket3))-basket1.intersection(basket3,basket2)) \n",
    "\n"
   ]
  },
  {
   "cell_type": "code",
   "execution_count": 30,
   "id": "32391b9d-4b0a-4607-938f-8000deed4cd9",
   "metadata": {},
   "outputs": [
    {
     "name": "stdout",
     "output_type": "stream",
     "text": [
      "Jaccard Similarity Matrix:\n",
      "      u1  u2  u3\n",
      "u1   1.0  0.5  0.67\n",
      "u2   0.5  1.0  0.25\n",
      "u3   0.67  0.25  1.0\n"
     ]
    }
   ],
   "source": [
    "# 4. Jaccard Similarity Matrix\n",
    "# Formula\n",
    "\n",
    "# Given sets of genres watched by users:\n",
    "u1 = {\"Action\", \"Drama\", \"Comedy\"}\n",
    "u2 = {\"Drama\", \"Romance\", \"Comedy\"}\n",
    "u3 = {\"Action\", \"Comedy\"}\n",
    "\n",
    "def jaccard(a,b):\n",
    "    return len(a&b)/len(a|b)\n",
    "matrix={}\n",
    "users = {\"u1\": u1, \"u2\": u2, \"u3\": u3}\n",
    "for name1,set1 in users.items():\n",
    "    matrix[name1]={}\n",
    "    for name2,set2 in users.items():\n",
    "        matrix[name1][name2]=round(jaccard(set1,set2),2)\n",
    "print(\"Jaccard Similarity Matrix:\")\n",
    "print(\"      \" + \"  \".join(users.keys()))\n",
    "for row in users.keys():\n",
    "    print(row, \" \", \"  \".join(str(matrix[row][col]) for col in users.keys()))"
   ]
  },
  {
   "cell_type": "code",
   "execution_count": 32,
   "id": "d901d5e3-2478-4b78-81bc-cbea1f09d69f",
   "metadata": {},
   "outputs": [
    {
     "data": {
      "text/plain": [
       "{'ravi@gmail.com', 'sita@yahoo.com'}"
      ]
     },
     "execution_count": 32,
     "metadata": {},
     "output_type": "execute_result"
    }
   ],
   "source": [
    "# 5. Data Cleaning Challenge\n",
    "# A dataset of emails has noise:\n",
    "# emails = {\"ravi@gmail.com\", \"RAVI@GMAIL.COM\", \" sita@yahoo.com\",\n",
    "# \"sita@yahoo.com \"}\n",
    "#  Normalize all emails (case-insensitive + strip spaces).\n",
    "#  Find unique cleaned emails using a set.\n",
    "# #  Extract unique domains.\n",
    "\n",
    "emails = {\"ravi@gmail.com\", \"RAVI@GMAIL.COM\", \" sita@yahoo.com\",\"sita@yahoo.com \"}\n",
    "clean_email=set()\n",
    "for x in emails:\n",
    "    clean_email.add(x.lower().strip())\n",
    "clean_email\n",
    "    \n"
   ]
  },
  {
   "cell_type": "code",
   "execution_count": 39,
   "id": "845d2337-09f0-469c-a053-b03ebaff6fe2",
   "metadata": {},
   "outputs": [
    {
     "name": "stdout",
     "output_type": "stream",
     "text": [
      "Yes candidate2's skill are a proper subset of candidate1\n",
      "candidate1 is  a proper subset of candidate3\n",
      "Candidate3 is superset\n"
     ]
    }
   ],
   "source": [
    "# 7. Multi-Layer Subset Logic\n",
    "# Given skill sets of candidate\n",
    "candidate1 = {\"Python\", \"SQL\", \"Pandas\", \"Excel\"}\n",
    "candidate2 = {\"Python\", \"SQL\"}\n",
    "candidate3 = {\"Python\", \"SQL\", \"Pandas\", \"Excel\", \"ML\"}\n",
    "\n",
    "#  Check if candidate2’s skills are a proper subset of candidate1.\n",
    "#  Check if candidate1 is a proper subset of candidate3.\n",
    "#  Find the superset candidate (the one who knows the most).\n",
    "if candidate2<candidate1:\n",
    "    print(\"Yes candidate2's skill are a proper subset of candidate1\")\n",
    "else:\n",
    "    print(\"candidate2 is not  a proper subset of candidate1\")\n",
    "\n",
    "if candidate1<candidate3:\n",
    "    print(\"candidate1 is  a proper subset of candidate3\")\n",
    "else:\n",
    "    print(\"candidate1 is  a proper subset of candidate3\")\n",
    "if (candidate1.issuperset(candidate2) and candidate1.issuperset(candidate3)):\n",
    "    print(\"Candidate1 is superset\")\n",
    "elif (candidate2.issuperset(candidate1) and candidate2.issuperset(candidate3)):\n",
    "    print(\"Candidate2 is superset\")\n",
    "elif (candidate3.issuperset(candidate2) and candidate3.issuperset(candidate1)):\n",
    "    print(\"Candidate3 is superset\")"
   ]
  },
  {
   "cell_type": "code",
   "execution_count": 42,
   "id": "6c60c961-867b-4003-8422-e5aa102c8f46",
   "metadata": {},
   "outputs": [
    {
     "name": "stdout",
     "output_type": "stream",
     "text": [
      "{101, 102, 103}\n",
      "{104, 105}\n",
      "{101, 102, 103, 106, 107}\n"
     ]
    }
   ],
   "source": [
    "# # 12. Cross-Dataset Integrity Check\n",
    "# Two datasets record student IDs:\n",
    "# dataset_A = {101,102,103,104,105}\n",
    "# dataset_B = {104,105,106,107}\n",
    "#  Find IDs missing in dataset_B but present in A.\n",
    "#  Find IDs that are common.\n",
    "# #  Find IDs that are completely unmatched (present in only one set).\n",
    "\n",
    "dataset_A = {101,102,103,104,105}\n",
    "dataset_B = {104,105,106,107}\n",
    "print(dataset_A-dataset_B)\n",
    "print(dataset_A & dataset_B)\n",
    "print(dataset_A ^ dataset_B)\n"
   ]
  },
  {
   "cell_type": "code",
   "execution_count": 49,
   "id": "b6065def-3122-40ec-987a-009009e3bfec",
   "metadata": {},
   "outputs": [
    {
     "name": "stdout",
     "output_type": "stream",
     "text": [
      "{'Shirt', 'Belt', 'Tie'}\n",
      "{'Shirt', 'Cap', 'Watch', 'Belt', 'Tie', 'Shoes'}\n",
      "{'Shirt', 'Belt', 'Watch', 'Tie'}\n",
      "Yes sold is subset\n"
     ]
    }
   ],
   "source": [
    "# 9. Dynamic Universe Problem\n",
    "# Universe of products:\n",
    "# universe = {\"Shoes\", \"Shirt\", \"Cap\", \"Belt\", \"Tie\"}\n",
    "# Sales dataset:\n",
    "# sold = {\"Shoes\", \"Cap\"}\n",
    "#  Find products never sold.\n",
    "#  Add \"Watch\" to the universe and repeat.\n",
    "#  Now check if sold is a subset of the new universe.\n",
    "\n",
    "universe = {\"Shoes\", \"Shirt\", \"Cap\", \"Belt\", \"Tie\"}\n",
    "sold = {\"Shoes\", \"Cap\"}\n",
    "print(universe-sold)\n",
    "universe.add('Watch')\n",
    "print(universe)\n",
    "print(universe-sold)\n",
    "print(\"Yes sold is subset\") if sold.issubset(universe) else print(\"NO sold is not subset\")"
   ]
  },
  {
   "cell_type": "code",
   "execution_count": null,
   "id": "f008a614-70f1-4829-8840-4e6bc4d7dd18",
   "metadata": {},
   "outputs": [],
   "source": []
  }
 ],
 "metadata": {
  "kernelspec": {
   "display_name": "Python 3 (ipykernel)",
   "language": "python",
   "name": "python3"
  },
  "language_info": {
   "codemirror_mode": {
    "name": "ipython",
    "version": 3
   },
   "file_extension": ".py",
   "mimetype": "text/x-python",
   "name": "python",
   "nbconvert_exporter": "python",
   "pygments_lexer": "ipython3",
   "version": "3.12.3"
  }
 },
 "nbformat": 4,
 "nbformat_minor": 5
}
