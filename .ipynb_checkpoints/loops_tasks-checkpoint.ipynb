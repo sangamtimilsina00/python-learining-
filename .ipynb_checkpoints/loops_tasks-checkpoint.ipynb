{
 "cells": [
  {
   "cell_type": "markdown",
   "id": "af66c2d6-92ba-4309-89ca-64f855ed5271",
   "metadata": {},
   "source": [
    "# Loops Tasks "
   ]
  },
  {
   "cell_type": "markdown",
   "id": "b2493418-3155-4050-9f10-eec8e9a88792",
   "metadata": {},
   "source": [
    "### `Problem 1` - Exercise 12: Display Fibonacci series up to 10 terms.\n",
    "\n",
    "*Note: The Fibonacci Sequence is a series of numbers. The next number is found by adding up the two numbers before it. The first two numbers are 0 and 1. For example, 0, 1, 1, 2, 3, 5, 8, 13, 21. The next number in this series above is 13+21 = 34*"
   ]
  },
  {
   "cell_type": "markdown",
   "id": "f7d3265e-8e12-4ca9-a4f9-e740d6e19927",
   "metadata": {},
   "source": [
    "### `Problem 2` - Reverse a given integer number. without using strings reverse function\n",
    "\n",
    "Example:\n",
    "\n",
    "`Input:`\n",
    "\n",
    "```bash\n",
    "76542\n",
    "```\n",
    "\n",
    "`Output:`\n",
    "\n",
    "```bash\n",
    "24567\n",
    "```"
   ]
  },
  {
   "cell_type": "markdown",
   "id": "37334151-398b-4a1b-990e-41ecebee3384",
   "metadata": {},
   "source": [
    "### `Problem 3`: Take a user input as integer N. Find out the sum from 1 to N. If any number if divisible by 5, then skip that number. And if the sum is greater than 300, don't need to calculate the sum further more. Print the final result. And don't use for loop to solve this problem. use concept of break and continue\n",
    "\n",
    "**Example 1:**\n",
    "\n",
    "`Input:`\n",
    "\n",
    "```bash\n",
    "30\n",
    "```\n",
    "\n",
    "`Output:`\n",
    "\n",
    "```bash\n",
    "276\n",
    "```"
   ]
  },
  {
   "cell_type": "markdown",
   "id": "81b2ed6f-2ea7-4c2c-ab0e-25cd04266990",
   "metadata": {},
   "source": [
    "### `Problem 4`: Write a program that keeps on accepting a number from the user until the user enters Zero. Display the sum and average of all the numbers."
   ]
  },
  {
   "cell_type": "markdown",
   "id": "1865d3a3-6765-43ed-b2c0-f3c8502f491a",
   "metadata": {},
   "source": [
    "### `Problem 5`: Write a program which will find all such numbers which are divisible by 7 but are not a multiple of 5, between 2000 and 3200 (both included). The numbers obtained should be printed in a comma-separated sequence on a single line."
   ]
  },
  {
   "cell_type": "markdown",
   "id": "28216404-0681-4388-a334-548f53ec93d5",
   "metadata": {},
   "source": [
    "### `Problem 6`: Write a program, which will find all such numbers between 1000 and 3000 (both included) such that each digit of the number is an even number. The numbers obtained should be printed in a space-separated sequence on a single line.\n",
    "\n"
   ]
  },
  {
   "cell_type": "markdown",
   "id": "cd6fdeca-3555-4840-a510-d0ef0b4a469e",
   "metadata": {},
   "source": [
    "### `Problem 7`:Write a program to print whether a given number is a prime number or not"
   ]
  },
  {
   "cell_type": "markdown",
   "id": "e51610a7-4b76-4d50-9bb6-04ba43f16e69",
   "metadata": {},
   "source": [
    "### `Problem 8`:Print all the Armstrong numbers in a given range.\n",
    "Range will be provided by the user<br>\n",
    "Armstrong number is a number that is equal to the sum of cubes of its digits. For example 0, 1, 153, 370, 371 and 407 are the Armstrong numbers.\n",
    "\n",
    "153=1^3+5^3+3^3"
   ]
  },
  {
   "cell_type": "markdown",
   "id": "2af08b49-4072-466d-a031-743f621ac431",
   "metadata": {},
   "source": [
    "### Program 9 - The current population of a town is 10000. The population of the town is increasing at the rate of 10% per year. You have to write a program to find out the population at the end of each of the last 10 years.\n"
   ]
  },
  {
   "cell_type": "markdown",
   "id": "99dbc417-0d3d-4572-aa00-9c9e3e9ea0b4",
   "metadata": {},
   "source": [
    "# program 10: Sequence sum\n",
    "1/1! + 2/2! + 3/3! + ..."
   ]
  },
  {
   "cell_type": "markdown",
   "id": "e2654064-6692-4080-bb8b-5a923597c7d6",
   "metadata": {},
   "source": [
    "# Program 11 find all unique pairs of 1,2"
   ]
  },
  {
   "cell_type": "raw",
   "id": "460fef48-fc63-4500-9c09-9dad9b6c0552",
   "metadata": {},
   "source": [
    "output : (use nesetd for loops )\n",
    "1 1 1\n",
    "1 1 2\n",
    "1 2 1\n",
    "1 2 2\n",
    "2 1 1\n",
    "2 1 2\n",
    "2 2 1\n",
    "2 2 2"
   ]
  },
  {
   "cell_type": "code",
   "execution_count": null,
   "id": "8fd11fc3-3954-4f84-b15a-9c53fdba89ed",
   "metadata": {},
   "outputs": [],
   "source": [
    "# Program 12 Python Code to Generate All Possible Combinations of Characters in a String:"
   ]
  }
 ],
 "metadata": {
  "kernelspec": {
   "display_name": "Python 3 (ipykernel)",
   "language": "python",
   "name": "python3"
  },
  "language_info": {
   "codemirror_mode": {
    "name": "ipython",
    "version": 3
   },
   "file_extension": ".py",
   "mimetype": "text/x-python",
   "name": "python",
   "nbconvert_exporter": "python",
   "pygments_lexer": "ipython3",
   "version": "3.12.6"
  }
 },
 "nbformat": 4,
 "nbformat_minor": 5
}
