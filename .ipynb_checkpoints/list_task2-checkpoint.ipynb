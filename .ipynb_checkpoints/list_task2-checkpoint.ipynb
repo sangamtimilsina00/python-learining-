{
 "cells": [
  {
   "cell_type": "code",
   "execution_count": 1,
   "id": "2c4250e6-053f-4e19-a488-755de247fcc5",
   "metadata": {},
   "outputs": [
    {
     "data": {
      "text/plain": [
       "770"
      ]
     },
     "execution_count": 1,
     "metadata": {},
     "output_type": "execute_result"
    }
   ],
   "source": [
    "# Q1. Store daily sales numbers in a Python list and calculate the total.\n",
    "sales=[120, 250, 300, 100]\n",
    "sum(sales)"
   ]
  },
  {
   "cell_type": "code",
   "execution_count": 2,
   "id": "3a94d040-2cbd-4f9c-9230-e3849fd5cf2b",
   "metadata": {},
   "outputs": [
    {
     "data": {
      "text/plain": [
       "4"
      ]
     },
     "execution_count": 2,
     "metadata": {},
     "output_type": "execute_result"
    }
   ],
   "source": [
    "# Find the number of transactions (length of the list).\n",
    "len(sales)"
   ]
  },
  {
   "cell_type": "code",
   "execution_count": 3,
   "id": "4869ecaa-006a-4348-9f76-0bd351c26982",
   "metadata": {},
   "outputs": [
    {
     "name": "stdout",
     "output_type": "stream",
     "text": [
      "300\n",
      "100\n"
     ]
    }
   ],
   "source": [
    "# Q3. Find the highest and lowest sales in a list.\n",
    "print(max(sales))\n",
    "print(min(sales))"
   ]
  },
  {
   "cell_type": "code",
   "execution_count": 4,
   "id": "595443da-471f-445c-bc50-f57a6932f5fe",
   "metadata": {},
   "outputs": [
    {
     "data": {
      "text/plain": [
       "3"
      ]
     },
     "execution_count": 4,
     "metadata": {},
     "output_type": "execute_result"
    }
   ],
   "source": [
    "# Q4. Count how many times a product was sold.\n",
    "# Hint: Use .count(value).\n",
    "# Example:\n",
    "# Input: [\"Apple\",\"Banana\",\"Apple\",\"Orange\",\"Apple\"]\n",
    "# Output: Apple=3\n",
    "\n",
    "products= [\"Apple\",\"Banana\",\"Apple\",\"Orange\",\"Apple\"]\n",
    "products.count('Apple')"
   ]
  },
  {
   "cell_type": "code",
   "execution_count": 8,
   "id": "16e643e8-a3db-482d-a136-16efbcf11d5a",
   "metadata": {},
   "outputs": [
    {
     "data": {
      "text/plain": [
       "[800, 450, 300]"
      ]
     },
     "execution_count": 8,
     "metadata": {},
     "output_type": "execute_result"
    }
   ],
   "source": [
    "# Find the top 3 highest daily sales.\n",
    "# Hint: Use sorted(list, reverse=True)[:3].\n",
    "# Example:\n",
    "# Input: [120, 450, 200, 800, 300]\n",
    "# Output: [800, 450, 300]\n",
    "sorted_sales=sorted([120, 450, 200, 800, 300],reverse=True)\n",
    "sorted_sales[:3]"
   ]
  },
  {
   "cell_type": "code",
   "execution_count": 10,
   "id": "f0059d3a-af0d-4416-b044-d1a09f180905",
   "metadata": {},
   "outputs": [
    {
     "name": "stdout",
     "output_type": "stream",
     "text": [
      "20.0\n",
      "25.0\n"
     ]
    }
   ],
   "source": [
    "# Calculate percentage growth between days.\n",
    "# Formula:\n",
    "\n",
    "# \n",
    "#  Example:\n",
    "# Input: [100, 120, 150]\n",
    "# Output: [20.0, 25.0]\n",
    "\n",
    "growth=[100,120,150]\n",
    "print((growth[1]-growth[0])/100*100)\n",
    "print((growth[2]-growth[1])/120*100)\n"
   ]
  },
  {
   "cell_type": "code",
   "execution_count": 16,
   "id": "f1492e9c-49a4-4641-8c77-388754c870d9",
   "metadata": {},
   "outputs": [
    {
     "data": {
      "text/plain": [
       "[100, 300, 600]"
      ]
     },
     "execution_count": 16,
     "metadata": {},
     "output_type": "execute_result"
    }
   ],
   "source": [
    "# Q7. Convert sales to cumulative totals.\n",
    "# Hint: Running sum with a loop.\n",
    "# Example:\n",
    "# Input: [100, 200, 300]\n",
    "# Output: [100, 300, 600]\n",
    "\n",
    "sales=[100, 200, 300]\n",
    "cumulative_sales=[]\n",
    "total=0\n",
    "for x in sales:\n",
    "    total+=x\n",
    "    cumulative_sales.append(total)\n",
    "cumulative_sales"
   ]
  },
  {
   "cell_type": "code",
   "execution_count": 18,
   "id": "c0df3555-e6c8-43e9-bfa3-c6250a32ed11",
   "metadata": {},
   "outputs": [
    {
     "data": {
      "text/plain": [
       "[100, 300, 450]"
      ]
     },
     "execution_count": 18,
     "metadata": {},
     "output_type": "execute_result"
    }
   ],
   "source": [
    "# Remove outliers (sales < 50 or > 500).\n",
    "# Hint: Use list comprehension with condition.\n",
    "# Example:\n",
    "# Input: [20, 100, 600, 300, 450]\n",
    "# Output: [100, 300, 450]\n",
    "\n",
    "data=[20, 100, 600, 300, 450]\n",
    "data_A_ro=[x for x in data if 50<=x<=500]\n",
    "data_A_ro"
   ]
  },
  {
   "cell_type": "code",
   "execution_count": 19,
   "id": "b1f07de9-6638-47f0-8e4f-bfd36d6617af",
   "metadata": {},
   "outputs": [
    {
     "name": "stdout",
     "output_type": "stream",
     "text": [
      "[100, 200, 300, 400]\n",
      "[0.0, 0.3333333333333333, 0.6666666666666666, 1.0]\n"
     ]
    }
   ],
   "source": [
    "# # Example:\n",
    "# # Input: [100, 200, 300, 400]\n",
    "# # Output: [0.0, 0.33, 0.66, 1.0]\n",
    "# Q9. Normalize sales values between 0–1.\n",
    "input=[100, 200, 300, 400]\n",
    "output=[]\n",
    "for x in input:\n",
    "    y=(x-min(input))/(max(input)-min(input))\n",
    "    output.append(y)\n",
    "print(input)\n",
    "print(output)"
   ]
  },
  {
   "cell_type": "code",
   "execution_count": 29,
   "id": "bb5022f4-abaf-4cd9-8c4d-1dfff07ada5f",
   "metadata": {},
   "outputs": [
    {
     "ename": "TypeError",
     "evalue": "'int' object is not callable",
     "output_type": "error",
     "traceback": [
      "\u001b[31m---------------------------------------------------------------------------\u001b[39m",
      "\u001b[31mTypeError\u001b[39m                                 Traceback (most recent call last)",
      "\u001b[36mCell\u001b[39m\u001b[36m \u001b[39m\u001b[32mIn[29]\u001b[39m\u001b[32m, line 12\u001b[39m\n\u001b[32m     10\u001b[39m \u001b[38;5;28minput\u001b[39m[:\u001b[32m3\u001b[39m]\n\u001b[32m     11\u001b[39m \u001b[38;5;28;01mfor\u001b[39;00m i \u001b[38;5;129;01min\u001b[39;00m \u001b[38;5;28mrange\u001b[39m(\u001b[38;5;28mlen\u001b[39m(\u001b[38;5;28minput\u001b[39m)-sl_wind+\u001b[32m1\u001b[39m):\n\u001b[32m---> \u001b[39m\u001b[32m12\u001b[39m     wind_Sum=\u001b[38;5;28;43msum\u001b[39;49m\u001b[43m(\u001b[49m\u001b[38;5;28;43minput\u001b[39;49m\u001b[43m[\u001b[49m\u001b[43mi\u001b[49m\u001b[43m:\u001b[49m\u001b[43mi\u001b[49m\u001b[43m+\u001b[49m\u001b[43msl_wind\u001b[49m\u001b[43m]\u001b[49m\u001b[43m)\u001b[49m\n\u001b[32m     13\u001b[39m     output.append(wind_Sum/sl_wind)\n\u001b[32m     14\u001b[39m output\n",
      "\u001b[31mTypeError\u001b[39m: 'int' object is not callable"
     ]
    }
   ],
   "source": [
    "# Q10. Calculate 3-day moving average (rolling mean).\n",
    "#  Hint: Use Sliding window=3\n",
    "#  Example:\n",
    "# Input: [10,20,30,40,50]\n",
    "# (10+20+30)/3=20.0 , (20+30+40)/3=30 , (30+40+50)/3=40.0\n",
    "# Output: [20.0, 30.0, 40.0]\n",
    "input= [10,20,30,40,50]\n",
    "output=[]\n",
    "sl_wind=3\n",
    "input[:3]\n",
    "for i in range(len(input)-sl_wind+1):\n",
    "    wind_Sum= sum(input[i:i+sl_wind])\n",
    "    output.append(wind_Sum/sl_wind)\n",
    "output\n",
    "\n",
    "                  \n",
    "\n"
   ]
  },
  {
   "cell_type": "code",
   "execution_count": null,
   "id": "7cb61448-e0b0-4884-9cc5-1ef2dd1847e5",
   "metadata": {},
   "outputs": [],
   "source": []
  }
 ],
 "metadata": {
  "kernelspec": {
   "display_name": "Python 3 (ipykernel)",
   "language": "python",
   "name": "python3"
  },
  "language_info": {
   "codemirror_mode": {
    "name": "ipython",
    "version": 3
   },
   "file_extension": ".py",
   "mimetype": "text/x-python",
   "name": "python",
   "nbconvert_exporter": "python",
   "pygments_lexer": "ipython3",
   "version": "3.12.3"
  }
 },
 "nbformat": 4,
 "nbformat_minor": 5
}
