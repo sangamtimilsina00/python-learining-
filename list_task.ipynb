{
 "cells": [
  {
   "cell_type": "code",
   "execution_count": 2,
   "id": "f88b7878-6ed0-4edf-8ce7-78823b67d640",
   "metadata": {},
   "outputs": [
    {
     "data": {
      "text/plain": [
       "[10, 20, [300, 400, [5000, 6000, 7000], 500], 30, 40]"
      ]
     },
     "execution_count": 2,
     "metadata": {},
     "output_type": "execute_result"
    }
   ],
   "source": [
    "# Write a program to add item 7000 after 6000 in the following Python List\n",
    "\n",
    "list1 = [10, 20, [300, 400, [5000, 6000], 500], 30, 40]\n",
    "list1[2][2].append(7000)\n",
    "list1"
   ]
  },
  {
   "cell_type": "code",
   "execution_count": 5,
   "id": "b57a1d4a-e37c-4bfc-80db-e771df1c5841",
   "metadata": {},
   "outputs": [
    {
     "data": {
      "text/plain": [
       "[1, 3, 6, 10, 15, 21]"
      ]
     },
     "execution_count": 5,
     "metadata": {},
     "output_type": "execute_result"
    }
   ],
   "source": [
    "# #Running Sum(Cumulative sum) on list (Write a program to print a list after performing running sum\n",
    "# on it\n",
    "\n",
    "I_list= [1,2,3,4,5,6]\n",
    "O_list=[]\n",
    "sum=0\n",
    "for i in I_list:\n",
    "    sum+=i\n",
    "    O_list.append(sum)\n",
    "O_list"
   ]
  },
  {
   "cell_type": "code",
   "execution_count": 10,
   "id": "0b477229-0761-4db5-a38f-a5ba2916c197",
   "metadata": {},
   "outputs": [
    {
     "data": {
      "text/plain": [
       "[34, 67, 89]"
      ]
     },
     "execution_count": 10,
     "metadata": {},
     "output_type": "execute_result"
    }
   ],
   "source": [
    "#Problem 3:Find list of common unique items from two list. and show in increasing order\n",
    "num1 = [23,45,67,78,89,34]\n",
    "num2 = [34,89,55,56,39,67]\n",
    "num3=[]\n",
    "for i in num1:\n",
    "    for j in num2:\n",
    "        if i==j:\n",
    "            num3.append(i)\n",
    "num3.sort()\n",
    "num3"
   ]
  },
  {
   "cell_type": "code",
   "execution_count": 13,
   "id": "f1a981fe-7e3d-4aab-8034-f8cf7bb4fc6a",
   "metadata": {},
   "outputs": [
    {
     "data": {
      "text/plain": [
       "[1, 2, 3, 4, 5, 7, 8]"
      ]
     },
     "execution_count": 13,
     "metadata": {},
     "output_type": "execute_result"
    }
   ],
   "source": [
    "#Write a program that can perform union operation on 2 lists\n",
    "\n",
    "A=[1,2,3,4,5,1]\n",
    "B=[2,3,5,7,8]\n",
    "AUB=[]\n",
    "for i in A:\n",
    "    if i not in AUB:\n",
    "        AUB.append(i)\n",
    "\n",
    "for i in B:\n",
    "    if i not in AUB:\n",
    "        AUB.append(i)\n",
    "AUB\n",
    "         \n"
   ]
  },
  {
   "cell_type": "code",
   "execution_count": 19,
   "id": "4c36dccc-711e-4aff-b3a0-ca0b3e9fbdba",
   "metadata": {},
   "outputs": [
    {
     "data": {
      "text/plain": [
       "[[7, 8, 9], [7, 8, 9], [7, 8, 9]]"
      ]
     },
     "execution_count": 19,
     "metadata": {},
     "output_type": "execute_result"
    }
   ],
   "source": [
    "# Write a program that can find the max number of each row of a matrix\n",
    "\n",
    "I=[[1,2,3],[4,5,6],[7,8,9]]\n",
    "list=[]\n",
    "for i in I:\n",
    "    list.append(max(I))\n",
    "    \n",
    "\n",
    "list"
   ]
  },
  {
   "cell_type": "code",
   "execution_count": null,
   "id": "d9a6c53d-17d5-496a-b67a-7c83d3238828",
   "metadata": {},
   "outputs": [],
   "source": []
  }
 ],
 "metadata": {
  "kernelspec": {
   "display_name": "Python 3 (ipykernel)",
   "language": "python",
   "name": "python3"
  },
  "language_info": {
   "codemirror_mode": {
    "name": "ipython",
    "version": 3
   },
   "file_extension": ".py",
   "mimetype": "text/x-python",
   "name": "python",
   "nbconvert_exporter": "python",
   "pygments_lexer": "ipython3",
   "version": "3.12.3"
  }
 },
 "nbformat": 4,
 "nbformat_minor": 5
}
