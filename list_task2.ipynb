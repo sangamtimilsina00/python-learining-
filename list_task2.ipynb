{
 "cells": [
  {
   "cell_type": "code",
   "execution_count": 11,
   "id": "2c4250e6-053f-4e19-a488-755de247fcc5",
   "metadata": {},
   "outputs": [
    {
     "data": {
      "text/plain": [
       "770"
      ]
     },
     "execution_count": 11,
     "metadata": {},
     "output_type": "execute_result"
    }
   ],
   "source": [
    "# Q1. Store daily sales numbers in a Python list and calculate the total.\n",
    "sales=[120, 250, 300, 100]\n",
    "sum(sales)"
   ]
  },
  {
   "cell_type": "code",
   "execution_count": 12,
   "id": "3a94d040-2cbd-4f9c-9230-e3849fd5cf2b",
   "metadata": {},
   "outputs": [
    {
     "data": {
      "text/plain": [
       "4"
      ]
     },
     "execution_count": 12,
     "metadata": {},
     "output_type": "execute_result"
    }
   ],
   "source": [
    "# Find the number of transactions (length of the list).\n",
    "len(sales)"
   ]
  },
  {
   "cell_type": "code",
   "execution_count": 13,
   "id": "4869ecaa-006a-4348-9f76-0bd351c26982",
   "metadata": {},
   "outputs": [
    {
     "name": "stdout",
     "output_type": "stream",
     "text": [
      "300\n",
      "100\n"
     ]
    }
   ],
   "source": [
    "# Q3. Find the highest and lowest sales in a list.\n",
    "print(max(sales))\n",
    "print(min(sales))"
   ]
  },
  {
   "cell_type": "code",
   "execution_count": 14,
   "id": "595443da-471f-445c-bc50-f57a6932f5fe",
   "metadata": {},
   "outputs": [
    {
     "data": {
      "text/plain": [
       "3"
      ]
     },
     "execution_count": 14,
     "metadata": {},
     "output_type": "execute_result"
    }
   ],
   "source": [
    "# Q4. Count how many times a product was sold.\n",
    "# Hint: Use .count(value).\n",
    "# Example:\n",
    "# Input: [\"Apple\",\"Banana\",\"Apple\",\"Orange\",\"Apple\"]\n",
    "# Output: Apple=3\n",
    "\n",
    "products= [\"Apple\",\"Banana\",\"Apple\",\"Orange\",\"Apple\"]\n",
    "products.count('Apple')"
   ]
  },
  {
   "cell_type": "code",
   "execution_count": 15,
   "id": "16e643e8-a3db-482d-a136-16efbcf11d5a",
   "metadata": {},
   "outputs": [
    {
     "data": {
      "text/plain": [
       "[800, 450, 300]"
      ]
     },
     "execution_count": 15,
     "metadata": {},
     "output_type": "execute_result"
    }
   ],
   "source": [
    "# Find the top 3 highest daily sales.\n",
    "# Hint: Use sorted(list, reverse=True)[:3].\n",
    "# Example:\n",
    "# Input: [120, 450, 200, 800, 300]\n",
    "# Output: [800, 450, 300]\n",
    "sorted_sales=sorted([120, 450, 200, 800, 300],reverse=True)\n",
    "sorted_sales[:3]"
   ]
  },
  {
   "cell_type": "code",
   "execution_count": 16,
   "id": "f0059d3a-af0d-4416-b044-d1a09f180905",
   "metadata": {},
   "outputs": [
    {
     "name": "stdout",
     "output_type": "stream",
     "text": [
      "20.0\n",
      "25.0\n"
     ]
    }
   ],
   "source": [
    "# Calculate percentage growth between days.\n",
    "# Formula:\n",
    "\n",
    "# \n",
    "#  Example:\n",
    "# Input: [100, 120, 150]\n",
    "# Output: [20.0, 25.0]\n",
    "\n",
    "growth=[100,120,150]\n",
    "print((growth[1]-growth[0])/100*100)\n",
    "print((growth[2]-growth[1])/120*100)\n"
   ]
  },
  {
   "cell_type": "code",
   "execution_count": 17,
   "id": "f1492e9c-49a4-4641-8c77-388754c870d9",
   "metadata": {},
   "outputs": [
    {
     "data": {
      "text/plain": [
       "[100, 300, 600]"
      ]
     },
     "execution_count": 17,
     "metadata": {},
     "output_type": "execute_result"
    }
   ],
   "source": [
    "# Q7. Convert sales to cumulative totals.\n",
    "# Hint: Running sum with a loop.\n",
    "# Example:\n",
    "# Input: [100, 200, 300]\n",
    "# Output: [100, 300, 600]\n",
    "\n",
    "sales=[100, 200, 300]\n",
    "cumulative_sales=[]\n",
    "total=0\n",
    "for x in sales:\n",
    "    total+=x\n",
    "    cumulative_sales.append(total)\n",
    "cumulative_sales"
   ]
  },
  {
   "cell_type": "code",
   "execution_count": 18,
   "id": "c0df3555-e6c8-43e9-bfa3-c6250a32ed11",
   "metadata": {},
   "outputs": [
    {
     "data": {
      "text/plain": [
       "[100, 300, 450]"
      ]
     },
     "execution_count": 18,
     "metadata": {},
     "output_type": "execute_result"
    }
   ],
   "source": [
    "# Remove outliers (sales < 50 or > 500).\n",
    "# Hint: Use list comprehension with condition.\n",
    "# Example:\n",
    "# Input: [20, 100, 600, 300, 450]\n",
    "# Output: [100, 300, 450]\n",
    "\n",
    "data=[20, 100, 600, 300, 450]\n",
    "data_A_ro=[x for x in data if 50<=x<=500]\n",
    "data_A_ro"
   ]
  },
  {
   "cell_type": "code",
   "execution_count": 19,
   "id": "b1f07de9-6638-47f0-8e4f-bfd36d6617af",
   "metadata": {},
   "outputs": [
    {
     "name": "stdout",
     "output_type": "stream",
     "text": [
      "[100, 200, 300, 400]\n",
      "[0.0, 0.3333333333333333, 0.6666666666666666, 1.0]\n"
     ]
    }
   ],
   "source": [
    "# # Example:\n",
    "# # Input: [100, 200, 300, 400]\n",
    "# # Output: [0.0, 0.33, 0.66, 1.0]\n",
    "# Q9. Normalize sales values between 0–1.\n",
    "input=[100, 200, 300, 400]\n",
    "output=[]\n",
    "for x in input:\n",
    "    y=(x-min(input))/(max(input)-min(input))\n",
    "    output.append(y)\n",
    "print(input)\n",
    "print(output)"
   ]
  },
  {
   "cell_type": "code",
   "execution_count": 1,
   "id": "bb5022f4-abaf-4cd9-8c4d-1dfff07ada5f",
   "metadata": {},
   "outputs": [
    {
     "data": {
      "text/plain": [
       "[20.0, 30.0, 40.0]"
      ]
     },
     "execution_count": 1,
     "metadata": {},
     "output_type": "execute_result"
    }
   ],
   "source": [
    "# Q10. Calculate 3-day moving average (rolling mean).\n",
    "#  Hint: Use Sliding window=3\n",
    "#  Example:\n",
    "# Input: [10,20,30,40,50]\n",
    "# (10+20+30)/3=20.0 , (20+30+40)/3=30 , (30+40+50)/3=40.0\n",
    "# Output: [20.0, 30.0, 40.0]\n",
    "input= [10,20,30,40,50]\n",
    "output=[]\n",
    "sl_wind=3\n",
    "input[:3]\n",
    "for i in range(len(input)-sl_wind+1):\n",
    "    wind_Sum= sum(input[i:i+sl_wind])\n",
    "    output.append(wind_Sum/sl_wind)\n",
    "output\n",
    "\n",
    "                  \n",
    "\n"
   ]
  },
  {
   "cell_type": "code",
   "execution_count": 2,
   "id": "7cb61448-e0b0-4884-9cc5-1ef2dd1847e5",
   "metadata": {},
   "outputs": [
    {
     "data": {
      "text/plain": [
       "[(100, 50), (200, 150), (300, 250)]"
      ]
     },
     "execution_count": 2,
     "metadata": {},
     "output_type": "execute_result"
    }
   ],
   "source": [
    "# Q11. Compare online vs offline sales (two lists).\n",
    "#  Hint: Use zip() to combine lists.\n",
    "#  Example:\n",
    "# Input: online=[100,200,300], offline=[50,150,250]\n",
    "# Output: [(100,50),(200,150),(300,250)]\n",
    "online=[100,200,300]\n",
    "offline=[50,150,250]\n",
    "list(zip(online,offline))\n",
    "\n"
   ]
  },
  {
   "cell_type": "code",
   "execution_count": 25,
   "id": "c7073f75-cd5a-4f18-b4f0-d58df39b4d01",
   "metadata": {},
   "outputs": [
    {
     "data": {
      "text/plain": [
       "[280, 170]"
      ]
     },
     "execution_count": 25,
     "metadata": {},
     "output_type": "execute_result"
    }
   ],
   "source": [
    "# Q12. Group sales into weekly totals (7 days per group).\n",
    "#  Hint: Use slicing in steps of 7.\n",
    "#  Example:\n",
    "# Input: [10,20,30,40,50,60,70,80,90]\n",
    "# Output: [280, 170]\n",
    "Input= [10,20,30,40,50,60,70,80,90]\n",
    "output=[]\n",
    "output.append(sum(Input[:7]))\n",
    "output.append(sum(Input[7:]))\n",
    "output"
   ]
  },
  {
   "cell_type": "code",
   "execution_count": 2,
   "id": "624f5d7c-3c00-4606-b156-54f72e3bfef2",
   "metadata": {},
   "outputs": [
    {
     "data": {
      "text/plain": [
       "[100, 300, 600]"
      ]
     },
     "execution_count": 2,
     "metadata": {},
     "output_type": "execute_result"
    }
   ],
   "source": [
    "# Q13. Create year-to-date (YTD) totals from monthly sales.\n",
    "#  Hint: Similar to cumulative totals, but grouped by year.\n",
    "#  Example:\n",
    "# Input: [Jan=100, Feb=200, Mar=300]\n",
    "# Output: [100, 300, 600]\n",
    "\n",
    "sales=[100,200,300]\n",
    "cumulative_Sales=[]\n",
    "total1=0\n",
    "for x in sales:\n",
    "    total1+=x\n",
    "    cumulative_Sales.append(total1)\n",
    "cumulative_Sales\n"
   ]
  },
  {
   "cell_type": "code",
   "execution_count": 4,
   "id": "959ed2a0-277a-456a-8a29-95450685697d",
   "metadata": {},
   "outputs": [
    {
     "data": {
      "text/plain": [
       "[10.0, 20.0, 70.0]"
      ]
     },
     "execution_count": 4,
     "metadata": {},
     "output_type": "execute_result"
    }
   ],
   "source": [
    "# Q14. Calculate contribution % of each product to total sales.\n",
    "#  Formula:\n",
    "\n",
    "#  Example:\n",
    "# Input: [100, 200, 700]\n",
    "# Output: [10%, 20%, 70%]\n",
    "\n",
    "input2= [100, 200, 700]\n",
    "output=[]\n",
    "for x in input2:\n",
    "    output.append(x/sum(input2)*100)\n",
    "output"
   ]
  },
  {
   "cell_type": "code",
   "execution_count": 7,
   "id": "2c8c876e-5d8f-4b9b-8299-2bbcdc7b1953",
   "metadata": {},
   "outputs": [
    {
     "data": {
      "text/plain": [
       "[2, 4, 3, 1]"
      ]
     },
     "execution_count": 7,
     "metadata": {},
     "output_type": "execute_result"
    }
   ],
   "source": [
    "# Q15. Rank sales values (1 = highest).\n",
    "#  Hint: Use sorted(set()) + index.\n",
    "#  Example:\n",
    "# Input: [500, 200, 300, 800]\n",
    "# Output: [2, 4, 3, 1]\n",
    "input3=[500, 200, 300, 800]\n",
    "sorted_input=sorted([500, 200, 300, 800],reverse=True)\n",
    "output3=[]\n",
    "for x in input3:\n",
    "    \n",
    "            output3.append(int(sorted_input.index(x)+1))\n",
    "output3"
   ]
  },
  {
   "cell_type": "code",
   "execution_count": 15,
   "id": "d6df5ea3-66c0-422b-9643-119ecc88131c",
   "metadata": {},
   "outputs": [
    {
     "name": "stdout",
     "output_type": "stream",
     "text": [
      "Q1 = [10, 20]\n",
      "Q2 = [30, 40]\n",
      "Q3 = [50, 60]\n"
     ]
    }
   ],
   "source": [
    "# Q16. Break sales into quartiles (25%, 50%, 75%).\n",
    "#  Hint: Sort list → split into 4.\n",
    "#  Example:\n",
    "# Input: [10,20,30,40,50,60,70,80]\n",
    "# Output: Q1=[10,20], Q2=[30,40], Q3=[50,60], Q4=[70,80]\n",
    "\n",
    "input4=sorted([10,20,30,40,50,60,70,80])\n",
    "n=len(input4)\n",
    "q_size=n//4\n",
    "q1=input4[:q_size]\n",
    "q2=input4[q_size:2*q_size]\n",
    "q3=input4[2*q_size:3*q_size]\n",
    "print(\"Q1 =\",q1)\n",
    "print(\"Q2 =\",q2)\n",
    "print(\"Q3 =\",q3)"
   ]
  },
  {
   "cell_type": "code",
   "execution_count": 2,
   "id": "6a705332-5e24-4857-8241-28bf85f7bea0",
   "metadata": {},
   "outputs": [
    {
     "data": {
      "text/plain": [
       "['Day 3', 'Day 5']"
      ]
     },
     "execution_count": 2,
     "metadata": {},
     "output_type": "execute_result"
    }
   ],
   "source": [
    "# Q17. Detect days where sales dropped compared to the previous day.\n",
    "#  Hint: Compare list[i] < list[i-1].\n",
    "#  Example:\n",
    "# Input: [100,120,90,150,140]\n",
    "# Output: [Day 3, Day 5]\n",
    "\n",
    "list1= [100,120,90,150,140]\n",
    "output5=[]\n",
    "for i in range(1,len(list1)):\n",
    "    if list1[i]<list1[i-1]:\n",
    "        output5.append(f'Day {i+1}')\n",
    "output5"
   ]
  },
  {
   "cell_type": "code",
   "execution_count": null,
   "id": "1979b8eb-1aa5-481d-ba62-9e1df764cbf1",
   "metadata": {},
   "outputs": [],
   "source": []
  }
 ],
 "metadata": {
  "kernelspec": {
   "display_name": "Python 3 (ipykernel)",
   "language": "python",
   "name": "python3"
  },
  "language_info": {
   "codemirror_mode": {
    "name": "ipython",
    "version": 3
   },
   "file_extension": ".py",
   "mimetype": "text/x-python",
   "name": "python",
   "nbconvert_exporter": "python",
   "pygments_lexer": "ipython3",
   "version": "3.12.3"
  }
 },
 "nbformat": 4,
 "nbformat_minor": 5
}
