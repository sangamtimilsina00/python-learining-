{
 "cells": [
  {
   "cell_type": "code",
   "execution_count": 1,
   "id": "f2ebc6e5-1f50-441d-934c-7e3333746058",
   "metadata": {},
   "outputs": [
    {
     "data": {
      "text/plain": [
       "600"
      ]
     },
     "execution_count": 1,
     "metadata": {},
     "output_type": "execute_result"
    }
   ],
   "source": [
    "# 1. Sum of Sales\n",
    "# \n",
    "# \n",
    "# Write a function total_sales(sales_list) that takes a list of daily sales numbers and returns\n",
    "# the total sales.\n",
    "# Example: total_sales([100, 200, 300]) # Output: 600\n",
    "\n",
    "def total_sales(lists):\n",
    "    return sum(lists)\n",
    "total_sales([100,200,300])"
   ]
  },
  {
   "cell_type": "code",
   "execution_count": 7,
   "id": "417512da-2f8d-4292-bc85-6040b956057a",
   "metadata": {},
   "outputs": [
    {
     "data": {
      "text/plain": [
       "'Tue'"
      ]
     },
     "execution_count": 7,
     "metadata": {},
     "output_type": "execute_result"
    }
   ],
   "source": [
    "# 2. Maximum Sale Day\n",
    "# \n",
    "# \n",
    "# Write a function max_sale_day(sales_dict) that returns the day with the highest sale.\n",
    "# Example: max_sale_day({'Mon': 100, 'Tue': 500, 'Wed': 300}) # Output: 'Tue'\n",
    "\n",
    "def max_sale_day(dictionary):\n",
    "    high_sales=0\n",
    "    high_day=''\n",
    "    for key,value in dictionary.items():\n",
    "        if high_sales<value:\n",
    "            high_sales=value\n",
    "            high_day=key\n",
    "    return high_day\n",
    "        \n",
    "    \n",
    "max_sale_day({'Mon': 100, 'Tue': 500, 'Wed': 300})\n",
    "    "
   ]
  },
  {
   "cell_type": "code",
   "execution_count": 8,
   "id": "92f1290c-783e-4c73-a60a-da1c8a09c29f",
   "metadata": {},
   "outputs": [
    {
     "data": {
      "text/plain": [
       "25.0"
      ]
     },
     "execution_count": 8,
     "metadata": {},
     "output_type": "execute_result"
    }
   ],
   "source": [
    "# 3. Sales Growth\n",
    "# \n",
    "# \n",
    "# \n",
    "# Write a function sales_growth(last_month, this_month) to calculate the growth\n",
    "# percentage.\n",
    "# Hint: Growth% = ((This Month - Last Month) / Last Month) * 100\n",
    "# Example: sales_growth(2000, 2500) # Output: 25.0\n",
    "def sales_growth(last_month,this_month):\n",
    "    growth_perc=((this_month-last_month)/last_month)*100\n",
    "    return growth_perc\n",
    "sales_growth(2000,2500)"
   ]
  },
  {
   "cell_type": "code",
   "execution_count": 10,
   "id": "4e8f7b31-d023-48a9-b08c-99dfdbabf72f",
   "metadata": {},
   "outputs": [
    {
     "data": {
      "text/plain": [
       "[2000]"
      ]
     },
     "execution_count": 10,
     "metadata": {},
     "output_type": "execute_result"
    }
   ],
   "source": [
    "# 5. Filter High-Value Transactions\n",
    "# \n",
    "# \n",
    "# Write a function high_value_transactions(transactions, threshold) to return transactions\n",
    "# above a threshold.\n",
    "# Example: high_value_transactions([100, 500, 2000], 1000) # Output: [2000\n",
    "def high_value_transactions(transactions,threshold):\n",
    "    x=[]\n",
    "    for i in transactions:\n",
    "        if i > threshold:\n",
    "            x.append(i)\n",
    "    return x\n",
    "high_value_transactions([100, 500, 2000], 1000)"
   ]
  },
  {
   "cell_type": "code",
   "execution_count": 3,
   "id": "849229aa-836a-4440-9103-c04bc2741a2d",
   "metadata": {},
   "outputs": [
    {
     "name": "stdout",
     "output_type": "stream",
     "text": [
      "['OCcasional', 'Regular', 'VIP']\n"
     ]
    }
   ],
   "source": [
    "# 6. Customer Segmentation\n",
    "# \n",
    "# \n",
    "# Write a function segment_customers(customers) that segments customers based on\n",
    "# purchase amount:\n",
    "# o 5000 → ‘VIP’\n",
    "# o 1000–5000 → ‘Regular’\n",
    "# o <1000 → ‘Occasional’\n",
    "# segment_customers([800, 1500, 7000]) # Output: ['Occasional','Regular','VIP']\n",
    "\n",
    "def segment_customers(customers):\n",
    "    seg=[]\n",
    "    for x in customers:\n",
    "        if x>=5000:\n",
    "            seg.append(\"VIP\")\n",
    "        if x>=1000 and x<5000:\n",
    "            seg.append(\"Regular\")\n",
    "        if x<1000:\n",
    "            seg.append(\"OCcasional\")\n",
    "    print(seg)\n",
    "segment_customers([800, 1500, 7000])"
   ]
  },
  {
   "cell_type": "code",
   "execution_count": 6,
   "id": "017683e8-bc79-402f-a5fe-09e3fd80fcc5",
   "metadata": {},
   "outputs": [
    {
     "name": "stdout",
     "output_type": "stream",
     "text": [
      "[150.0, 250.0, 350.0]\n"
     ]
    }
   ],
   "source": [
    "# 7. Moving Average of Sales\n",
    "# \n",
    "# \n",
    "# Write a function moving_average(sales_list, n) that calculates n-day moving average.\n",
    "# Example: moving_average([100, 200, 300, 400], 2) # Output: [150.0, 250.0, 350.0]\n",
    "\n",
    "\n",
    "def moving_average(sales_list,m_d):\n",
    "    output=[]\n",
    "    for i in range(len(sales_list)-m_d+1):\n",
    "        avg=sum(sales_list[i:i+m_d])\n",
    "        output.append(avg/m_d)\n",
    "    print(output)\n",
    "moving_average([100, 200, 300, 400], 2)\n",
    "    "
   ]
  },
  {
   "cell_type": "code",
   "execution_count": 19,
   "id": "33f27d74-25b0-4d37-a4ba-91de63608a78",
   "metadata": {},
   "outputs": [
    {
     "name": "stdout",
     "output_type": "stream",
     "text": [
      "{'A': 400, 'B': 200}\n"
     ]
    }
   ],
   "source": [
    "# 8. Product-wise Total Sales\n",
    "# \n",
    "# \n",
    "# Write a function product_sales(sales_data) that takes a list of tuples (product, amount)\n",
    "# and returns total sales per product.\n",
    "# Example: product_sales([('A',100),('B',200),('A',300)]) # Output: {'A': 400, 'B': 200}\n",
    "\n",
    "def product_sales(sales_data):\n",
    "    output={}\n",
    "    for keys,value in sales_data:\n",
    "        if keys in output:\n",
    "            output[keys]+=value\n",
    "        else:\n",
    "            output[keys]=value\n",
    "    print(output)\n",
    "sales_data=[('A',100),('B',200),('A',300)]\n",
    "product_sales(sales_data)\n"
   ]
  },
  {
   "cell_type": "code",
   "execution_count": 15,
   "id": "56a384fc-610a-4d86-8ed2-e86ee81fde71",
   "metadata": {},
   "outputs": [
    {
     "name": "stdout",
     "output_type": "stream",
     "text": [
      "[('B', 1000), ('C', 700)]\n"
     ]
    }
   ],
   "source": [
    "# 9. Top-N Products\n",
    "# \n",
    "# ,n\n",
    "# Write a function top_products(sales_data, n) to return top n products by sales.\n",
    "# Example: top_products([('A',500),('B',1000),('C',700)], 2) # Output: [('B',1000),('C',700)]\n",
    "def top_products(sales_data,n):\n",
    "    output=[]\n",
    "    values=[]\n",
    "    for x in sales_data:\n",
    "        values.append(x[1])\n",
    "    max_product=sorted(values)[-n:]\n",
    "    for y in products:\n",
    "        if y[1] in max_product:\n",
    "            output.append(y)\n",
    "    print(output)\n",
    "\n",
    "    \n",
    "top_products([('A',500),('B',1000),('C',700)], 2)"
   ]
  },
  {
   "cell_type": "code",
   "execution_count": 1,
   "id": "77771866-50cb-4481-a571-c9327d3ee2e3",
   "metadata": {},
   "outputs": [],
   "source": [
    "# 14. Correlation Between Two Metrics\n",
    "# \n",
    "# Write a function correlation(x, y) to calculate Pearson correlation coefficient between\n",
    "# two lists of numbers.\n",
    "# Formula\n",
    "# Example: correlation([1,2,3],[2,4,6]) # Output: 1.0\n"
   ]
  },
  {
   "cell_type": "code",
   "execution_count": 9,
   "id": "a53dbf24-2772-4eac-8e97-57e63bb92ffa",
   "metadata": {},
   "outputs": [
    {
     "name": "stdout",
     "output_type": "stream",
     "text": [
      "1.0\n"
     ]
    }
   ],
   "source": [
    "x1=[1,2,3]\n",
    "y1=[2,4,6]\n",
    "def correlation(x,y):\n",
    "    if len(x)!=len(y):\n",
    "        print(\" no of x and no of y should be equal\")\n",
    "    else:\n",
    "        n=len(x)\n",
    "        sum_y=sum(y)\n",
    "        sum_x=sum(x)\n",
    "        sum_xy=sum(x[i]*y[i] for i in range(n))\n",
    "        \n",
    "        mean_x=sum_x/n\n",
    "        mean_y=sum_y/n\n",
    "        numerator= n*sum_xy-sum_y*sum_x\n",
    "        deno_x=n*sum(x[i]**2 for i in range(n))-sum_x**2\n",
    "        deno_y=n*sum(y[i]**2 for i in range(n))-sum_y**2\n",
    "        denominator=(deno_x*deno_y)**0.5\n",
    "        cor=numerator/denominator\n",
    "        print(cor)\n",
    "correlation(x1,y1)"
   ]
  },
  {
   "cell_type": "code",
   "execution_count": 7,
   "id": "c2104671-bdf5-4ad4-8d23-44205d74ae03",
   "metadata": {},
   "outputs": [],
   "source": [
    "# 15. Weighted Average Price\n",
    "# \n",
    "# Write a function weighted_avg_price(prices, quantities) to calculate weighted average\n",
    "# price.\n",
    "# Formula:\n",
    "# \n",
    "# Example: weighted_avg_price([100,200],[2,3]) # Output: 160"
   ]
  },
  {
   "cell_type": "code",
   "execution_count": 14,
   "id": "a63a6ac7-0198-4ab3-9f70-9dff3e412a5a",
   "metadata": {},
   "outputs": [
    {
     "name": "stdout",
     "output_type": "stream",
     "text": [
      "160.0\n"
     ]
    }
   ],
   "source": [
    "price1=[100,200]\n",
    "\n",
    "quant1=[2,3]\n",
    "def weighted_avg_price(price,quant):\n",
    "    if len(price)!=len(quant):\n",
    "        print(\"invalid data\")\n",
    "    else:\n",
    "        n=len(price)\n",
    "        nume=sum(price[i]*quant[i] for i in range(n))\n",
    "        deno=sum(quant)\n",
    "        w_a=nume/deno\n",
    "        print(w_a)\n",
    "weighted_avg_price(price1,quant1)\n",
    "            "
   ]
  },
  {
   "cell_type": "markdown",
   "id": "abc7ef85-ca6d-45a6-83ef-7a850e5e4ae9",
   "metadata": {},
   "source": [
    "## 16. Dynamic KPI Calculatio\n",
    "\n"
   ]
  },
  {
   "cell_type": "code",
   "execution_count": 17,
   "id": "d4c37178-249f-40db-9350-b0822b2bbc3a",
   "metadata": {},
   "outputs": [],
   "source": [
    "# Write a function calculate_kpi(data, metric, agg_func) that takes a dataset, metric\n",
    "# name, and aggregation function (sum, mean, max) and returns result.\n",
    "# Example: calculate_kpi(data, 'sales', 'sum') # Output: total sales"
   ]
  },
  {
   "cell_type": "code",
   "execution_count": 6,
   "id": "ed6d6afc-018b-4d58-8bfb-e15ccedb13dc",
   "metadata": {},
   "outputs": [
    {
     "name": "stdout",
     "output_type": "stream",
     "text": [
      "Mean Sales : 200.0\n"
     ]
    }
   ],
   "source": [
    "data = [\n",
    "    {\"sales\": 100, \"profit\": 20, \"expenses\": 80, \"customers\": 5},\n",
    "    {\"sales\": 200, \"profit\": 50, \"expenses\": 120, \"customers\": 8},\n",
    "    {\"sales\": 300, \"profit\": 70, \"expenses\": 200, \"customers\": 10},\n",
    "    {\"sales\": 150, \"profit\": 30, \"expenses\": 90, \"customers\": 6},\n",
    "    {\"sales\": 400, \"profit\": 100, \"expenses\": 250, \"customers\": 12},\n",
    "    {\"sales\": 250, \"profit\": 60, \"expenses\": 150, \"customers\": 9},\n",
    "    {\"sales\": 350, \"profit\": 90, \"expenses\": 210, \"customers\": 11},\n",
    "    {\"sales\": 500, \"profit\": 120, \"expenses\": 300, \"customers\": 15}\n",
    "]\n",
    "\n",
    "def calculate_kpi(data,metric,agg_func):\n",
    "    value=[x[metric] for x in data if metric in x]\n",
    "    agg_func='mean'\n",
    "    if agg_func=='sum':\n",
    "        kpi=sum(value)\n",
    "        print(\"Total sales :\",kpi)\n",
    "    if agg_func=='mean':\n",
    "        kpi=sum(value)/len(value)\n",
    "        print(\"Mean Sales :\",kpi)\n",
    "    if agg_func==\"max\":\n",
    "        kpi=max(value)\n",
    "        print(\"Maximum sales :\",kpi)\n",
    "calculate_kpi(data,'sales','sum')\n",
    "    \n"
   ]
  },
  {
   "cell_type": "code",
   "execution_count": 8,
   "id": "07fcb941-eeed-4598-9c83-c14382b26918",
   "metadata": {},
   "outputs": [
    {
     "name": "stdout",
     "output_type": "stream",
     "text": [
      "pareto products are  [('C', 2500), ('A', 1000)]\n"
     ]
    }
   ],
   "source": [
    "# 17. Pareto Analysis (80/20 Rule)\n",
    "# \n",
    "# \n",
    "# \n",
    "# Write a function pareto_products(sales_data) to identify top products contributing 80%\n",
    "# of total revenue.\n",
    "# Hint: Sort by revenue, calculate cumulative %.\n",
    "# Example Output: pareto_products([('A',1000),('B',500),('C',2500)]) # Output: ['C','A']\n",
    "def pareto_products(sales_data):\n",
    "    sales_data=sorted(sales_data,key=lambda x:x[1],reverse=True)\n",
    "    total_revenue=sum(x for y,x in sales_data)\n",
    "    pareto_products=[]\n",
    "    cum_rev=0\n",
    "    for x  in sales_data:\n",
    "        cum_rev+=x[1]\n",
    "        pareto_products.append(x)\n",
    "        if cum_rev/total_revenue>=0.8:\n",
    "            print('pareto products are ',pareto_products)\n",
    "            break\n",
    "            \n",
    "pareto_products([('A',1000),('B',500),('C',2500)])\n"
   ]
  },
  {
   "cell_type": "code",
   "execution_count": 9,
   "id": "3c80023b-7c2e-4b69-914b-afaef3729660",
   "metadata": {},
   "outputs": [
    {
     "name": "stdout",
     "output_type": "stream",
     "text": [
      "[100]\n"
     ]
    }
   ],
   "source": [
    "# 18. Outlier Detection with IQR\n",
    "# \n",
    "# \n",
    "# Write a function iqr_outliers(values) to detect outliers using interquartile range method.\n",
    "# Formula:\n",
    "import numpy as np\n",
    "def iqr_outliers(data):\n",
    "    data=sorted(data)\n",
    "    q1=np.quantile(data,0.25)\n",
    "    q3=np.quantile(data,0.75)\n",
    "    q2=np.quantile(data,0.5)\n",
    "    iqr=q3-q1\n",
    "    max=q3+1.5*iqr\n",
    "    min=q1-1.5*iqr\n",
    "    outlier=[]\n",
    "    for x in data:\n",
    "        if x<min or x>max:\n",
    "            outlier.append(x)\n",
    "    print(outlier)\n",
    "iqr_outliers([10,12,14,100,15,13])"
   ]
  },
  {
   "cell_type": "code",
   "execution_count": 12,
   "id": "fa16154f-6409-45b1-af3e-698664f68db7",
   "metadata": {},
   "outputs": [
    {
     "name": "stdout",
     "output_type": "stream",
     "text": [
      "{'East': {'A': 12.0, 'B': 18.0}, 'West': {'A': 20.0, 'B': 10.0}, 'South': {'C': 40.0}}\n"
     ]
    }
   ],
   "source": [
    "# 19. Multi-Dimensional Sales Contribution\n",
    "# Write a function sales_contribution(data, dimensions) to calculate % contribution of\n",
    "# each dimension (e.g., product, region) to total sales.\n",
    "# Example Output:\n",
    "# Input :\n",
    "# data = [\n",
    "# {'region':'East','product':'A','sales':120},\n",
    "# {'region':'East','product':'B','sales':180},\n",
    "# {'region':'West','product':'A','sales':200},\n",
    "# {'region':'West','product':'B','sales':100},\n",
    "# {'region':'South','product':'C','sales':400}\n",
    "# ]\n",
    "# dimensions = ['region','product']\n",
    "# sample output :\n",
    "# {\n",
    "# 'East': {'A': 12.0, 'B': 18.0},\n",
    "# 'West': {'A': 20.0, 'B': 10.0},\n",
    "# 'South': {'C': 40.0}\n",
    "# }\n",
    "# Hints:\n",
    "# Total sales = 120 + 180 + 200 + 100 + 400 = 1000\n",
    "# Percent contribution:\n",
    "# East → A: 120/1000 × 100 = 12%\n",
    "# East → B: 180/1000 × 100 = 18%\n",
    "# West → A: 200/1000 × 100 = 20%\n",
    "# West → B: 100/1000 × 100 = 10%\n",
    "# South → C: 400/1000 × 100 = 40%\n",
    "\n",
    "def sales_contribution(data,dimensions):\n",
    "    sales_list=[item['sales'] for item in data]\n",
    "    total_sales=sum(sales_list)\n",
    "    result={}\n",
    "    for item in data:\n",
    "        dim1=item[dimensions[0]]\n",
    "        dim2=item[dimensions[1]]\n",
    "        sales=item['sales']\n",
    "        if dim1 not in result:\n",
    "            result[dim1]={}\n",
    "        result[dim1][dim2]=sales/total_sales*100\n",
    "    print(result)\n",
    "data1 = [\n",
    "{'region':'East','product':'A','sales':120},\n",
    "{'region':'East','product':'B','sales':180},\n",
    "{'region':'West','product':'A','sales':200},\n",
    "{'region':'West','product':'B','sales':100},\n",
    "{'region':'South','product':'C','sales':400}\n",
    "]\n",
    "dimensions1= ['region','product']\n",
    "sales_contribution(data1,dimensions)\n"
   ]
  },
  {
   "cell_type": "code",
   "execution_count": 11,
   "id": "a4fa49ff-7017-446f-a7cc-a49f757a4c9b",
   "metadata": {},
   "outputs": [
    {
     "name": "stdout",
     "output_type": "stream",
     "text": [
      "[120, 180, 200, 100, 400]\n"
     ]
    }
   ],
   "source": [
    "data1 = [\n",
    "{'region':'East','product':'A','sales':120},\n",
    "{'region':'East','product':'B','sales':180},\n",
    "{'region':'West','product':'A','sales':200},\n",
    "{'region':'West','product':'B','sales':100},\n",
    "{'region':'South','product':'C','sales':400}\n",
    "]\n",
    "x=[item['sales'] for item in data1]\n",
    "print(x)"
   ]
  },
  {
   "cell_type": "code",
   "execution_count": null,
   "id": "94eff28b-2849-47a8-925d-b86c46746c9d",
   "metadata": {},
   "outputs": [],
   "source": []
  }
 ],
 "metadata": {
  "kernelspec": {
   "display_name": "Python 3 (ipykernel)",
   "language": "python",
   "name": "python3"
  },
  "language_info": {
   "codemirror_mode": {
    "name": "ipython",
    "version": 3
   },
   "file_extension": ".py",
   "mimetype": "text/x-python",
   "name": "python",
   "nbconvert_exporter": "python",
   "pygments_lexer": "ipython3",
   "version": "3.12.3"
  }
 },
 "nbformat": 4,
 "nbformat_minor": 5
}
