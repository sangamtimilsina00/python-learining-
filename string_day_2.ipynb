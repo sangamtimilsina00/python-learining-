{
 "cells": [
  {
   "cell_type": "markdown",
   "id": "3e9beef9-49d1-40b3-96c0-f89d1c5caedf",
   "metadata": {},
   "source": [
    "# string methods "
   ]
  },
  {
   "cell_type": "code",
   "execution_count": 2,
   "id": "f52af09f-4812-46c9-aaa5-453ce194d606",
   "metadata": {},
   "outputs": [
    {
     "name": "stdout",
     "output_type": "stream",
     "text": [
      "Hello World i am learning python\n"
     ]
    }
   ],
   "source": [
    "s=\"Hello World i am learning python\"\n",
    "print(s)"
   ]
  },
  {
   "cell_type": "markdown",
   "id": "b856f5af-2f55-4cdf-8d9a-8599acb362fb",
   "metadata": {},
   "source": [
    "# upper() , lower() , swapcase() : output : string"
   ]
  },
  {
   "cell_type": "code",
   "execution_count": 3,
   "id": "25c4ec85-75b9-4f7a-8f2f-d1a689e8696d",
   "metadata": {},
   "outputs": [
    {
     "name": "stdout",
     "output_type": "stream",
     "text": [
      "HELLO WORLD I AM LEARNING PYTHON\n",
      "hello world i am learning python\n",
      "hELLO wORLD I AM LEARNING PYTHON\n"
     ]
    }
   ],
   "source": [
    "print(s.upper())\n",
    "print(s.lower())\n",
    "print(s.swapcase())"
   ]
  },
  {
   "cell_type": "code",
   "execution_count": 4,
   "id": "cd78fff4-3efc-4b4f-8f24-4cd29b14d533",
   "metadata": {},
   "outputs": [
    {
     "name": "stdout",
     "output_type": "stream",
     "text": [
      "Hello World I Am Learning Python\n"
     ]
    }
   ],
   "source": [
    "print(s.title())"
   ]
  },
  {
   "cell_type": "markdown",
   "id": "c15b96a5-8497-4128-a4cf-4ae4062eb164",
   "metadata": {},
   "source": [
    "# replace() "
   ]
  },
  {
   "cell_type": "code",
   "execution_count": 5,
   "id": "beb72aeb-3efa-47c5-9a8a-31f1c0ac5cc9",
   "metadata": {},
   "outputs": [
    {
     "name": "stdout",
     "output_type": "stream",
     "text": [
      "i am learning java\n",
      "i am learning python\n"
     ]
    }
   ],
   "source": [
    "s='i am learning java'\n",
    "print(s)\n",
    "s2=s.replace(\"java\",\"python\")\n",
    "print(s2)"
   ]
  },
  {
   "cell_type": "code",
   "execution_count": null,
   "id": "fe45e524-abac-44e0-b055-1b20284eb621",
   "metadata": {},
   "outputs": [],
   "source": [
    "# id  name  age  gender \n",
    "   1  ram   20    M\n",
    "   2  shyam  22  Male     -> \n",
    "  3   hari  23   male"
   ]
  },
  {
   "cell_type": "code",
   "execution_count": 8,
   "id": "3c6ce052-fc0b-431d-8460-3e023b13b569",
   "metadata": {},
   "outputs": [
    {
     "name": "stdout",
     "output_type": "stream",
     "text": [
      "male\n"
     ]
    }
   ],
   "source": [
    "gender='M'\n",
    "gender=gender.replace(\"M\",'Male').lower()\n",
    "print(gender)"
   ]
  },
  {
   "cell_type": "markdown",
   "id": "78086ce2-9095-4009-9c1f-18c8187fee16",
   "metadata": {},
   "source": [
    "#  strip () "
   ]
  },
  {
   "cell_type": "code",
   "execution_count": 11,
   "id": "a244c7a6-e24a-4c79-9c04-294d2f307881",
   "metadata": {},
   "outputs": [
    {
     "name": "stdout",
     "output_type": "stream",
     "text": [
      "          ram poudel          \n",
      "30\n"
     ]
    }
   ],
   "source": [
    "name=\"          ram poudel          \"\n",
    "print(name)\n",
    "print(len(name))"
   ]
  },
  {
   "cell_type": "code",
   "execution_count": 12,
   "id": "059f7cb8-bcb8-4e4c-814b-7e975a0b4bf2",
   "metadata": {},
   "outputs": [
    {
     "name": "stdout",
     "output_type": "stream",
     "text": [
      "ram poudel\n",
      "10\n"
     ]
    }
   ],
   "source": [
    "name=name.strip()\n",
    "print(name)\n",
    "print(len(name))"
   ]
  },
  {
   "cell_type": "code",
   "execution_count": 14,
   "id": "f988afa8-d37a-432f-a542-b3c121d61ace",
   "metadata": {},
   "outputs": [
    {
     "name": "stdout",
     "output_type": "stream",
     "text": [
      "################ram poudel#####################\n",
      "ram poudel\n"
     ]
    }
   ],
   "source": [
    "name=\"################ram poudel#####################\"\n",
    "print(name)\n",
    "print(name.strip('#'))"
   ]
  },
  {
   "cell_type": "markdown",
   "id": "5a4977fe-3101-4162-87aa-dbf4b140c832",
   "metadata": {},
   "source": [
    "# find , index "
   ]
  },
  {
   "cell_type": "code",
   "execution_count": 15,
   "id": "b89ff7a1-957f-4956-8c8d-2e9092466767",
   "metadata": {},
   "outputs": [
    {
     "data": {
      "text/plain": [
       "8"
      ]
     },
     "execution_count": 15,
     "metadata": {},
     "output_type": "execute_result"
    }
   ],
   "source": [
    "email='saroj123@gmail.com'\n",
    "\n",
    "email.find('@')"
   ]
  },
  {
   "cell_type": "code",
   "execution_count": 16,
   "id": "aeac2697-ece0-4f85-b17b-29c7f6ef9b00",
   "metadata": {},
   "outputs": [
    {
     "data": {
      "text/plain": [
       "8"
      ]
     },
     "execution_count": 16,
     "metadata": {},
     "output_type": "execute_result"
    }
   ],
   "source": [
    "email.index('@')"
   ]
  },
  {
   "cell_type": "code",
   "execution_count": 17,
   "id": "df79994c-1cea-4606-b76e-b4566c89522f",
   "metadata": {},
   "outputs": [
    {
     "data": {
      "text/plain": [
       "-1"
      ]
     },
     "execution_count": 17,
     "metadata": {},
     "output_type": "execute_result"
    }
   ],
   "source": [
    "email.find('z')"
   ]
  },
  {
   "cell_type": "code",
   "execution_count": 19,
   "id": "010978cf-e463-44bd-994f-85aa56b5deb2",
   "metadata": {},
   "outputs": [
    {
     "ename": "ValueError",
     "evalue": "substring not found",
     "output_type": "error",
     "traceback": [
      "\u001b[1;31m---------------------------------------------------------------------------\u001b[0m",
      "\u001b[1;31mValueError\u001b[0m                                Traceback (most recent call last)",
      "Cell \u001b[1;32mIn[19], line 1\u001b[0m\n\u001b[1;32m----> 1\u001b[0m \u001b[43memail\u001b[49m\u001b[38;5;241;43m.\u001b[39;49m\u001b[43mindex\u001b[49m\u001b[43m(\u001b[49m\u001b[38;5;124;43m'\u001b[39;49m\u001b[38;5;124;43mz\u001b[39;49m\u001b[38;5;124;43m'\u001b[39;49m\u001b[43m)\u001b[49m\n",
      "\u001b[1;31mValueError\u001b[0m: substring not found"
     ]
    }
   ],
   "source": [
    "email.index('z')"
   ]
  },
  {
   "cell_type": "markdown",
   "id": "f62433f8-8792-44b6-9c91-f206ed875251",
   "metadata": {},
   "source": [
    "# WAP to find the specific element or word is present or not "
   ]
  },
  {
   "cell_type": "code",
   "execution_count": 21,
   "id": "5a2f471f-fd78-4ab4-a0dd-bbb1a6752f97",
   "metadata": {},
   "outputs": [
    {
     "name": "stdin",
     "output_type": "stream",
     "text": [
      "Enter The senetence :  hello world\n",
      "Enter The Word to be find :  w\n"
     ]
    },
    {
     "name": "stdout",
     "output_type": "stream",
     "text": [
      "w is  present in the hello world \n"
     ]
    }
   ],
   "source": [
    "sen=input(\"Enter The senetence : \")\n",
    "word=input(\"Enter The Word to be find : \")\n",
    "\n",
    "if sen.find(word)==-1:\n",
    "    print(f'{word} is not present in the {sen}')\n",
    "else:\n",
    "     print(f'{word} is  present in the {sen} ')"
   ]
  },
  {
   "cell_type": "markdown",
   "id": "806db304-14aa-41b4-8c35-2734505f5524",
   "metadata": {},
   "source": [
    "# extract the user name and the domain name using find method "
   ]
  },
  {
   "cell_type": "code",
   "execution_count": 3,
   "id": "ad2fb0e9-ad3c-4d23-a288-fd7240845368",
   "metadata": {},
   "outputs": [
    {
     "name": "stdout",
     "output_type": "stream",
     "text": [
      "sipalaya232\n",
      ".org\n"
     ]
    }
   ],
   "source": [
    "email='sipalaya232@.org'\n",
    "\n",
    "user=email.find('@')\n",
    "dom=email.find('.')\n",
    "\n",
    "user_name=email[:user]\n",
    "dom_name=email[dom:]\n",
    "print(user_name)\n",
    "print(dom_name)"
   ]
  },
  {
   "cell_type": "code",
   "execution_count": 27,
   "id": "a74e94fd-0eed-4b0b-886a-2fb542d0ea37",
   "metadata": {},
   "outputs": [
    {
     "data": {
      "text/plain": [
       "'com'"
      ]
     },
     "execution_count": 27,
     "metadata": {},
     "output_type": "execute_result"
    }
   ],
   "source": [
    "email[21:]"
   ]
  },
  {
   "cell_type": "code",
   "execution_count": 31,
   "id": "a73f6d50-aaca-4408-a1bb-90ee9c264fea",
   "metadata": {},
   "outputs": [
    {
     "data": {
      "text/plain": [
       "2"
      ]
     },
     "execution_count": 31,
     "metadata": {},
     "output_type": "execute_result"
    }
   ],
   "source": [
    "email='hello'\n",
    "email.find('l')"
   ]
  },
  {
   "cell_type": "code",
   "execution_count": null,
   "id": "d6cb6a83-7294-4f0a-a1ae-7fb942a42414",
   "metadata": {},
   "outputs": [],
   "source": [
    "first_string='helloo'\n",
    "second_string='python'"
   ]
  },
  {
   "cell_type": "code",
   "execution_count": null,
   "id": "9d04bc1f-e334-45db-b3f7-d2b1f6aa087e",
   "metadata": {},
   "outputs": [],
   "source": [
    "'japythonva'  # helpythonloo"
   ]
  },
  {
   "cell_type": "markdown",
   "id": "937dd76e-cb5d-41ff-b958-5d548c56930c",
   "metadata": {},
   "source": [
    "# looping in string "
   ]
  },
  {
   "cell_type": "code",
   "execution_count": 32,
   "id": "d92a5cc1-ce19-4832-b356-a9305dd88140",
   "metadata": {},
   "outputs": [
    {
     "name": "stdout",
     "output_type": "stream",
     "text": [
      "h\n",
      "e\n",
      "l\n",
      "l\n",
      "l\n",
      "o\n"
     ]
    }
   ],
   "source": [
    "s=\"helllo\"   #  h   e  l  l  l  0\n",
    "\n",
    "for char in s:\n",
    "    print(char)"
   ]
  },
  {
   "cell_type": "code",
   "execution_count": 33,
   "id": "d6f3ca8f-84ee-4d5c-aecb-e9b8055f425c",
   "metadata": {},
   "outputs": [
    {
     "name": "stdout",
     "output_type": "stream",
     "text": [
      "demo\n",
      "demo\n",
      "demo\n",
      "demo\n"
     ]
    }
   ],
   "source": [
    "s=\"demo\"  \n",
    "\n",
    "for char in s:\n",
    "    print(s)"
   ]
  },
  {
   "cell_type": "markdown",
   "id": "ae03034d-f75b-4301-9f7c-746fca17cf99",
   "metadata": {},
   "source": [
    "# membership operator "
   ]
  },
  {
   "cell_type": "code",
   "execution_count": 38,
   "id": "3aa69b27-becc-4278-a5f1-ba1b03d6a477",
   "metadata": {},
   "outputs": [
    {
     "name": "stdin",
     "output_type": "stream",
     "text": [
      "Enter The senetence :  hello i am learning java\n",
      "Enter The Word to be find :  python\n"
     ]
    },
    {
     "name": "stdout",
     "output_type": "stream",
     "text": [
      "python is not present in hello i am learning java\n"
     ]
    }
   ],
   "source": [
    "sen=input(\"Enter The senetence : \")\n",
    "word=input(\"Enter The Word to be find : \")\n",
    "\n",
    "if word in sen:\n",
    "    print(f'{word} is present in {sen}')\n",
    "else:\n",
    "    print(f'{word} is not present in {sen}')\n",
    "    "
   ]
  },
  {
   "cell_type": "code",
   "execution_count": 36,
   "id": "fe0576df-cca5-4d2a-8ac0-ae5657bbfc2c",
   "metadata": {},
   "outputs": [
    {
     "name": "stdout",
     "output_type": "stream",
     "text": [
      "False\n"
     ]
    }
   ],
   "source": [
    "s='hel0lo'\n",
    "\n",
    "print('ll' in s)"
   ]
  },
  {
   "cell_type": "markdown",
   "id": "59bc5264-72b9-4316-b391-06377cc16ebf",
   "metadata": {},
   "source": [
    "# count() "
   ]
  },
  {
   "cell_type": "code",
   "execution_count": 40,
   "id": "ef1672b6-23d3-4cd8-b5f6-5c020700bf7a",
   "metadata": {},
   "outputs": [
    {
     "name": "stdout",
     "output_type": "stream",
     "text": [
      "7\n"
     ]
    }
   ],
   "source": [
    "s='hello i am learning python l l l l '\n",
    "\n",
    "occurance=s.count('l')\n",
    "print(occurance)"
   ]
  },
  {
   "cell_type": "code",
   "execution_count": 41,
   "id": "ee29c616-def0-40e3-8b1b-6b84b4e2a8b2",
   "metadata": {},
   "outputs": [
    {
     "name": "stdout",
     "output_type": "stream",
     "text": [
      "3\n"
     ]
    }
   ],
   "source": [
    "s='hello i am learning python l l l l python python  '\n",
    "\n",
    "occurance=s.count('python')\n",
    "print(occurance)"
   ]
  },
  {
   "cell_type": "code",
   "execution_count": 43,
   "id": "c10605f9-5f70-45ac-a86a-b87e4a8829dc",
   "metadata": {},
   "outputs": [
    {
     "name": "stdout",
     "output_type": "stream",
     "text": [
      "3\n"
     ]
    }
   ],
   "source": [
    "s='hello i am learning python l l l l python python  '.upper()\n",
    "\n",
    "occurance=s.count('python'.upper())\n",
    "print(occurance)"
   ]
  },
  {
   "cell_type": "code",
   "execution_count": 44,
   "id": "f5b0589f-1da8-4b47-a466-d8d9eaaca582",
   "metadata": {},
   "outputs": [
    {
     "data": {
      "text/plain": [
       "'PYTHON'"
      ]
     },
     "execution_count": 44,
     "metadata": {},
     "output_type": "execute_result"
    }
   ],
   "source": [
    "'python'.upper()"
   ]
  },
  {
   "cell_type": "code",
   "execution_count": 76,
   "id": "7012dbde-d2df-4ac9-955f-2ac90ea2c2cc",
   "metadata": {},
   "outputs": [
    {
     "name": "stdout",
     "output_type": "stream",
     "text": [
      "1000.0\n"
     ]
    }
   ],
   "source": [
    "price=\"   Rs,2000     \".strip()\n",
    "price=int(price.replace(\"Rs,\",''))*0.5\n",
    "print(price)"
   ]
  },
  {
   "cell_type": "code",
   "execution_count": 59,
   "id": "71ac7809-2da0-4671-a850-1d5e863a4173",
   "metadata": {},
   "outputs": [
    {
     "data": {
      "text/plain": [
       "2000"
      ]
     },
     "execution_count": 59,
     "metadata": {},
     "output_type": "execute_result"
    }
   ],
   "source": [
    "# % increment or decrement \n",
    "\n",
    "2000"
   ]
  },
  {
   "cell_type": "code",
   "execution_count": 61,
   "id": "21c0b7fa-7cc3-4598-8ee9-cbd5c24b1f16",
   "metadata": {},
   "outputs": [
    {
     "data": {
      "text/plain": [
       "2200.0"
      ]
     },
     "execution_count": 61,
     "metadata": {},
     "output_type": "execute_result"
    }
   ],
   "source": [
    "2000+ (10/100)*2000  #  increment "
   ]
  },
  {
   "cell_type": "code",
   "execution_count": 62,
   "id": "bb998635-1c0b-4c4d-8151-e5862773f36c",
   "metadata": {},
   "outputs": [
    {
     "data": {
      "text/plain": [
       "1800.0"
      ]
     },
     "execution_count": 62,
     "metadata": {},
     "output_type": "execute_result"
    }
   ],
   "source": [
    "2000- (10/100)*2000"
   ]
  },
  {
   "cell_type": "code",
   "execution_count": 68,
   "id": "f23fef88-eace-42a0-85bf-54a76a35d107",
   "metadata": {},
   "outputs": [
    {
     "data": {
      "text/plain": [
       "2400.0"
      ]
     },
     "execution_count": 68,
     "metadata": {},
     "output_type": "execute_result"
    }
   ],
   "source": [
    "2000*(1.2)"
   ]
  },
  {
   "cell_type": "code",
   "execution_count": 70,
   "id": "81c8bab8-c66b-49d8-8989-ea72b14bbbb2",
   "metadata": {},
   "outputs": [
    {
     "data": {
      "text/plain": [
       "1800.0"
      ]
     },
     "execution_count": 70,
     "metadata": {},
     "output_type": "execute_result"
    }
   ],
   "source": [
    "2000*(0.9)"
   ]
  },
  {
   "cell_type": "code",
   "execution_count": 71,
   "id": "3ff35592-ae2b-4e38-a29b-4f8b1ee17cc1",
   "metadata": {},
   "outputs": [
    {
     "data": {
      "text/plain": [
       "0.8"
      ]
     },
     "execution_count": 71,
     "metadata": {},
     "output_type": "execute_result"
    }
   ],
   "source": [
    "1-20/100"
   ]
  },
  {
   "cell_type": "code",
   "execution_count": 72,
   "id": "1e09e40f-fcb7-4e4e-920e-9c2275b05d95",
   "metadata": {},
   "outputs": [
    {
     "data": {
      "text/plain": [
       "1600.0"
      ]
     },
     "execution_count": 72,
     "metadata": {},
     "output_type": "execute_result"
    }
   ],
   "source": [
    "2000*0.8"
   ]
  },
  {
   "cell_type": "markdown",
   "id": "2281b112-79f6-4ecd-a881-f14dcf5ed5ad",
   "metadata": {},
   "source": [
    "## "
   ]
  },
  {
   "cell_type": "code",
   "execution_count": 46,
   "id": "529dc1ef-8246-4363-8968-c868ec58aba1",
   "metadata": {},
   "outputs": [
    {
     "data": {
      "text/plain": [
       "1600.0"
      ]
     },
     "execution_count": 46,
     "metadata": {},
     "output_type": "execute_result"
    }
   ],
   "source": [
    "2000-(20/100)*2000"
   ]
  },
  {
   "cell_type": "code",
   "execution_count": 47,
   "id": "2837bb5f-9c83-4ca8-b764-21059d0738bb",
   "metadata": {},
   "outputs": [
    {
     "ename": "ValueError",
     "evalue": "invalid literal for int() with base 10: 'Rs,2000'",
     "output_type": "error",
     "traceback": [
      "\u001b[1;31m---------------------------------------------------------------------------\u001b[0m",
      "\u001b[1;31mValueError\u001b[0m                                Traceback (most recent call last)",
      "Cell \u001b[1;32mIn[47], line 1\u001b[0m\n\u001b[1;32m----> 1\u001b[0m \u001b[38;5;28;43mint\u001b[39;49m\u001b[43m(\u001b[49m\u001b[38;5;124;43m'\u001b[39;49m\u001b[38;5;124;43mRs,2000\u001b[39;49m\u001b[38;5;124;43m'\u001b[39;49m\u001b[43m)\u001b[49m\n",
      "\u001b[1;31mValueError\u001b[0m: invalid literal for int() with base 10: 'Rs,2000'"
     ]
    }
   ],
   "source": [
    "int('Rs,2000')"
   ]
  },
  {
   "cell_type": "code",
   "execution_count": 48,
   "id": "fd821d30-2f17-4a5d-b4a5-5643efdbb23f",
   "metadata": {},
   "outputs": [
    {
     "data": {
      "text/plain": [
       "1000"
      ]
     },
     "execution_count": 48,
     "metadata": {},
     "output_type": "execute_result"
    }
   ],
   "source": [
    "int('1000')"
   ]
  },
  {
   "cell_type": "code",
   "execution_count": 77,
   "id": "19d538e6-4a18-4a46-9bef-92b326229f6b",
   "metadata": {},
   "outputs": [
    {
     "data": {
      "text/plain": [
       "'C:\\\\Users\\\\HP\\\\Desktop\\\\evening_class\\\\New folder (2)'"
      ]
     },
     "execution_count": 77,
     "metadata": {},
     "output_type": "execute_result"
    }
   ],
   "source": [
    "import os\n",
    "os.getcwd()"
   ]
  },
  {
   "cell_type": "code",
   "execution_count": null,
   "id": "cc702df5-f9ef-4ec0-994e-6149be64e37a",
   "metadata": {},
   "outputs": [],
   "source": []
  }
 ],
 "metadata": {
  "kernelspec": {
   "display_name": "Python 3 (ipykernel)",
   "language": "python",
   "name": "python3"
  },
  "language_info": {
   "codemirror_mode": {
    "name": "ipython",
    "version": 3
   },
   "file_extension": ".py",
   "mimetype": "text/x-python",
   "name": "python",
   "nbconvert_exporter": "python",
   "pygments_lexer": "ipython3",
   "version": "3.12.3"
  }
 },
 "nbformat": 4,
 "nbformat_minor": 5
}
