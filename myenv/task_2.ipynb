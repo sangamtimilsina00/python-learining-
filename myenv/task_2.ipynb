{
 "cells": [
  {
   "cell_type": "code",
   "execution_count": 1,
   "id": "6fd2c3e5-b8b0-4471-a85b-c0b573dc6cbb",
   "metadata": {},
   "outputs": [
    {
     "name": "stdin",
     "output_type": "stream",
     "text": [
      "enter the temperature in celsius 37\n"
     ]
    },
    {
     "name": "stdout",
     "output_type": "stream",
     "text": [
      "The temperature in Farenheit is 98.6\n"
     ]
    }
   ],
   "source": [
    "t_c=float(input(\"enter the temperature in celsius\"))\n",
    "t_f=(t_c*9)/5+32\n",
    "print(f'The temperature in Farenheit is {t_f}')"
   ]
  },
  {
   "cell_type": "code",
   "execution_count": 5,
   "id": "82b392c4-62ea-428f-bc56-646d82e0ce85",
   "metadata": {},
   "outputs": [
    {
     "name": "stdout",
     "output_type": "stream",
     "text": [
      "enter the coordinates of first point\n"
     ]
    },
    {
     "name": "stdin",
     "output_type": "stream",
     "text": [
      "enter the x1 0\n",
      "enter the x2 0\n"
     ]
    },
    {
     "name": "stdout",
     "output_type": "stream",
     "text": [
      "enter the coordinates of second point\n"
     ]
    },
    {
     "name": "stdin",
     "output_type": "stream",
     "text": [
      "enter the x1 5\n",
      "enter the x2 5\n"
     ]
    },
    {
     "name": "stdout",
     "output_type": "stream",
     "text": [
      "distance between the two points is 7.0710678118654755\n"
     ]
    }
   ],
   "source": [
    "import math\n",
    "p1=[]\n",
    "print('enter the coordinates of first point')\n",
    "for i in range(2):\n",
    "    value=int(input(f\"enter the x{i+1}\"))\n",
    "    p1.append(value)\n",
    "p2=[]\n",
    "print(\"enter the coordinates of second point\")\n",
    "for i in range(2):\n",
    "    value=int(input(f\"enter the x{i+1}\"))\n",
    "    p2.append(value)\n",
    "\n",
    "d=math.sqrt((p2[0]-p1[0])**2+(p2[1]-p1[1])**2)\n",
    "print(f'distance between the two points is {d}')"
   ]
  },
  {
   "cell_type": "code",
   "execution_count": 6,
   "id": "fd582c48-1118-4c40-82d2-8b97fbadfe0e",
   "metadata": {},
   "outputs": [
    {
     "name": "stdin",
     "output_type": "stream",
     "text": [
      "enter the natural number  5\n"
     ]
    },
    {
     "name": "stdout",
     "output_type": "stream",
     "text": [
      "The sum of squares of first 5 numbers  is 55.0\n"
     ]
    }
   ],
   "source": [
    "# write program to find the sum of squares of n natural number\n",
    "n=int(input('enter the natural number '))\n",
    "sum_of_sq=(n*(n+1)*(2*n+1))/6\n",
    "print(f'The sum of squares of first {n} numbers  is {sum_of_sq}')"
   ]
  },
  {
   "cell_type": "code",
   "execution_count": 11,
   "id": "206ad2bc-20ae-406a-8d8c-fc8690762f25",
   "metadata": {},
   "outputs": [
    {
     "name": "stdin",
     "output_type": "stream",
     "text": [
      "enter the numerator of first fraction 1\n",
      "enter the denominator of first fraction 2\n",
      "enter the numerator of second fraction 1\n",
      "enter the denominator of second fraction 2\n"
     ]
    },
    {
     "name": "stdout",
     "output_type": "stream",
     "text": [
      "sum is 1.0\n"
     ]
    }
   ],
   "source": [
    "## - Given 2 fractions, find the sum of those 2 fractions.Take the numerator and denominator values of\n",
    "# the fractions from the user.\n",
    "f1=[]\n",
    "n=int(input('enter the numerator of first fraction'))\n",
    "f1.append(n)\n",
    "n=int(input('enter the denominator of first fraction'))\n",
    "f1.append(n)\n",
    "f2=[]\n",
    "n=int(input('enter the numerator of second fraction'))\n",
    "f2.append(n)\n",
    "n=int(input('enter the denominator of second fraction'))\n",
    "f2.append(n)\n",
    "sum=(f1[0]*f2[1]+f2[0]*f1[1])/(f1[1]*f2[1])\n",
    "print(f'sum is {sum}')\n",
    "\n",
    "\n"
   ]
  },
  {
   "cell_type": "code",
   "execution_count": 16,
   "id": "d1e03603-2a2a-47a5-9673-d1764ea21c61",
   "metadata": {},
   "outputs": [
    {
     "name": "stdout",
     "output_type": "stream",
     "text": [
      "enter the three angles \n"
     ]
    },
    {
     "name": "stdin",
     "output_type": "stream",
     "text": [
      "enter the first angle -10\n",
      "enter the second angle 150\n",
      "enter the third angle 40\n"
     ]
    },
    {
     "name": "stdout",
     "output_type": "stream",
     "text": [
      "one of the angle is negative so it cannot form triangle.\n"
     ]
    }
   ],
   "source": [
    "#Write a program that take a user input of three angles and will find out whether it can form a\n",
    "#triangle or not.\n",
    "print(\"enter the three angles \")\n",
    "a1=int(input('enter the first angle'))\n",
    "a2=int(input('enter the second angle'))\n",
    "a3=int(input('enter the third angle'))\n",
    "sum=a1+a2+a3\n",
    "if(sum==180):\n",
    "    if ((a1>0) & (a2>0) & (a3>0)):\n",
    "        print('given three angle can form triangle')\n",
    "    else:\n",
    "        print('one of the angle is negative so it cannot form triangle.')\n",
    "else:\n",
    "    print('it cannot form triangle')\n"
   ]
  },
  {
   "cell_type": "code",
   "execution_count": 19,
   "id": "afaa5d4f-58bd-4eeb-98eb-d5fc9c8fa74d",
   "metadata": {},
   "outputs": [
    {
     "name": "stdin",
     "output_type": "stream",
     "text": [
      "enter the cost price :  15\n",
      "enter the selling price :  20\n"
     ]
    },
    {
     "name": "stdout",
     "output_type": "stream",
     "text": [
      "it is profit\n"
     ]
    }
   ],
   "source": [
    "#Write a program that will take user input of cost price and selling price and determines whether its\n",
    "#a loss or a profit.\n",
    "\n",
    "cp=float(input(\"enter the cost price : \"))\n",
    "sp=float(input('enter the selling price : '))\n",
    "if cp>sp:\n",
    "    print(\"it is loss\")\n",
    "elif cp==sp:\n",
    "    print(\"it is neither loss nor profit\")\n",
    "else:\n",
    "    print('it is profit')\n",
    "    \n"
   ]
  },
  {
   "cell_type": "code",
   "execution_count": 23,
   "id": "da7b77ab-ac4c-44e6-a604-c33e78c00e56",
   "metadata": {},
   "outputs": [
    {
     "name": "stdout",
     "output_type": "stream",
     "text": [
      " choose the options \n",
      " option 1 for cm to ft \n",
      " option 2 for km to miles \n",
      " option 3 for US$ to Nrs \n"
     ]
    },
    {
     "name": "stdin",
     "output_type": "stream",
     "text": [
      "Choose the option from 1 to 3 3\n",
      "enter the US currency 25\n"
     ]
    },
    {
     "name": "stdout",
     "output_type": "stream",
     "text": [
      "3375.0\n"
     ]
    }
   ],
   "source": [
    "#Write a menu-driven program - take user input for options 1) 1 cm to ft , 2)km to miles 3) usd to nrs\n",
    "#4) exit\n",
    "\n",
    "print(' choose the options ')\n",
    "print(' option 1 for cm to ft ')\n",
    "print(' option 2 for km to miles ')\n",
    "print(' option 3 for US$ to Nrs ')\n",
    "o=int(input('Choose the option from 1 to 3'))\n",
    "if o==1:\n",
    "    cm=float(input(\"enter the length in cm\"))\n",
    "    ft=0.032*cm\n",
    "    print(ft)\n",
    "elif o==2:\n",
    "    km=float(input(\"enter the length in km\"))\n",
    "    miles=0.62*km\n",
    "    print(miles)\n",
    "elif o==3:\n",
    "    us=float(input(\"enter the US currency\"))\n",
    "    nrs=135*us\n",
    "    print(nrs)\n",
    "else:\n",
    "    print(\"Please choose option between 1-3 only\")\n",
    "    \n",
    "\n"
   ]
  },
  {
   "cell_type": "code",
   "execution_count": 25,
   "id": "635c6870-913e-4964-a17c-6690c4a85f6c",
   "metadata": {},
   "outputs": [
    {
     "name": "stdin",
     "output_type": "stream",
     "text": [
      "Enter the number 6\n"
     ]
    },
    {
     "name": "stdout",
     "output_type": "stream",
     "text": [
      "6 is divisible by both 2 and 3\n"
     ]
    }
   ],
   "source": [
    "#Check if a number is divisible by 2 and 3 or both\n",
    "\n",
    "x=int(input(\"Enter the number\"))\n",
    "if x%2==0 & x%3==0:\n",
    "    print(f\"{x} is divisible by both 2 and 3\")\n",
    "elif x%2==0:\n",
    "    print(f'{x} is divisible by 2')\n",
    "elif x%3==0:\n",
    "    print(f'{x} is divisible by 3')\n",
    "else:\n",
    "    print(f'{x} is not divisible by 2 and not by 3')\n",
    "    "
   ]
  },
  {
   "cell_type": "code",
   "execution_count": 27,
   "id": "481bb7b1-6f77-4baf-9f87-80cde8a8a0a2",
   "metadata": {},
   "outputs": [
    {
     "name": "stdout",
     "output_type": "stream",
     "text": [
      "simple calculator\n",
      "1:Add\n",
      "2:Sub\n",
      "3:Multiplication\n",
      "4:Division\n"
     ]
    },
    {
     "name": "stdin",
     "output_type": "stream",
     "text": [
      "choose the option 1\n",
      "enter first number 5\n",
      "enter second number 5\n"
     ]
    },
    {
     "name": "stdout",
     "output_type": "stream",
     "text": [
      "10.0\n"
     ]
    }
   ],
   "source": [
    "# Implement a basic calculator that performs addition, subtraction, multiplication, and division\n",
    "# based on user choice.\n",
    "\n",
    "print('simple calculator')\n",
    "print('1:Add')\n",
    "print(\"2:Sub\")\n",
    "print(\"3:Multiplication\")\n",
    "print(\"4:Division\")\n",
    "n=int(input(\"choose the option\"))\n",
    "a=float(input(\"enter first number\"))\n",
    "b=float(input(\"enter second number\"))\n",
    "if n==1:\n",
    "    print(a+b)\n",
    "elif n==2:\n",
    "    print(a-b)\n",
    "elif n==3:\n",
    "    print(a*b)\n",
    "elif n==4:\n",
    "    print(a/b)\n",
    "else:\n",
    "    print(\"Choose the option from 1 to 2\")\n",
    "\n"
   ]
  },
  {
   "cell_type": "code",
   "execution_count": 34,
   "id": "fd280867-a64d-4956-bf8d-474a1061c2ca",
   "metadata": {},
   "outputs": [
    {
     "name": "stdout",
     "output_type": "stream",
     "text": [
      "enter the marks\n"
     ]
    },
    {
     "name": "stdin",
     "output_type": "stream",
     "text": [
      "enter the marks of english : 35\n",
      "enter the marks of science : 24\n",
      "enter the marks of nepali : 36\n",
      "enter the marks of samajik : 24\n",
      "enter the marks of mathematics : 66\n"
     ]
    },
    {
     "name": "stdout",
     "output_type": "stream",
     "text": [
      "you got F grade\n",
      "you are failed\n",
      "your percentage is 46.25\n"
     ]
    }
   ],
   "source": [
    "#Calculate the percentage and grade based on the total marks and individual subject marks ,the\n",
    "#system is based on #5 subjects, and the student must have at least 35 marks in each subject to pass.\n",
    "print(\"enter the marks\")\n",
    "eng=float(input(\"enter the marks of english :\"))\n",
    "sci=float(input(\"enter the marks of science :\"))\n",
    "nep=float(input(\"enter the marks of nepali :\"))\n",
    "soc=float(input(\"enter the marks of samajik :\"))\n",
    "maths=float(input(\"enter the marks of mathematics :\"))\n",
    "total=eng+sci+nep+soc+maths\n",
    "per=total/4\n",
    "if per>=90:\n",
    "    print(\"you got A grade\")\n",
    "elif per>=75:\n",
    "    print(\"you got B grade\")\n",
    "elif per>=50:\n",
    "    print(\"you got C grade\")\n",
    "elif per<50:\n",
    "    print(\"you got F grade\")\n",
    "if ((eng<35) | (sci<35) | (nep<35) | (soc<35) | (maths<35)) :\n",
    "    print(\"you are failed\")\n",
    "print(f\"your percentage is {per}\")"
   ]
  },
  {
   "cell_type": "code",
   "execution_count": null,
   "id": "214d20cc-dcf7-4192-aa29-19ede13e6411",
   "metadata": {},
   "outputs": [],
   "source": []
  }
 ],
 "metadata": {
  "kernelspec": {
   "display_name": "Python 3 (ipykernel)",
   "language": "python",
   "name": "python3"
  },
  "language_info": {
   "codemirror_mode": {
    "name": "ipython",
    "version": 3
   },
   "file_extension": ".py",
   "mimetype": "text/x-python",
   "name": "python",
   "nbconvert_exporter": "python",
   "pygments_lexer": "ipython3",
   "version": "3.12.3"
  }
 },
 "nbformat": 4,
 "nbformat_minor": 5
}
