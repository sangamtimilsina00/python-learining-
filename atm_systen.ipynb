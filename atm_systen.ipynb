{
 "cells": [
  {
   "cell_type": "code",
   "execution_count": 39,
   "id": "300b7a58-709e-4e4e-b62c-0d567ade21fc",
   "metadata": {},
   "outputs": [],
   "source": [
    "class Atm:\n",
    "    def __init__(self):\n",
    "        self.pin=input(\"enter the initial pin \")\n",
    "        self.balance=float(input(\"Enter th current balance\"))\n",
    "        self.number=input(\"Enter the phone number\")\n",
    "        print(\"initialize the pin and balance\")\n",
    "        \n",
    "        \n",
    "    def pin_verify(self):\n",
    "        chance=3\n",
    "        while chance:\n",
    "            curr_pin=input(\"Enter the current pin number\")\n",
    "            if curr_pin==self.pin:\n",
    "                return True\n",
    "            else:\n",
    "                chance=chance-1\n",
    "                print(f'You have{chance} attempt left')\n",
    "        return False\n",
    "    def change_pin(self):\n",
    "        verify=self.pin_verify()\n",
    "        if verify:\n",
    "            \n",
    "            new_pin=input('Enter the new pin')\n",
    "            if new_pin==self.pin:\n",
    "                print(\"New and Old pin are same\")\n",
    "            else:\n",
    "                self.pin=new_pin\n",
    "                print(\"successfully change pin !!!!!!!\")\n",
    "        else:\n",
    "            print(\"invalid pin\")\n",
    "    def check_balance(self):\n",
    "        print(f'current balance is Rs {self.balance}')\n",
    "    def deposit(self):\n",
    "        verify=self.pin_verify()\n",
    "        if verify:\n",
    "            dep_amount=int(input(\"Enter the amount to deposit\"))\n",
    "            if dep_amount>0:\n",
    "                self.balance+=dep_amount\n",
    "                print(f\"{dep_amount} deposited successfully!!!!\")\n",
    "                self.check_balance()\n",
    "            else:\n",
    "                print(\"invalid amount to deposit !!!!\")\n",
    "    def withdraw(self):\n",
    "        verify=self.pin_verify()\n",
    "        if verify:\n",
    "            w_amount=int(input(\"enter the amount to withdraw :\"))\n",
    "            if w_amount<self.balance:\n",
    "                self.balance-=w_amount\n",
    "                print(f'{w_amount} has been withdrwan!!!!!')\n",
    "                self.check_balance()\n",
    "            else:\n",
    "                print(\"Invalid Pin!!!!\")\n",
    "    def show_detail(self):\n",
    "        verify=self.pin_verify()\n",
    "        if verify:\n",
    "            print(f\"\"\"\n",
    "            ############### Acount Information #######\n",
    "            pin number : {self.pin}  \n",
    "            balance : {self.balance}\n",
    "            phone number : {self.number}\n",
    "           \"\"\")\n",
    "        else:\n",
    "            print(\"Invalid pin\")\n",
    "    \n",
    "            \n",
    "        \n",
    "        \n",
    "        \n",
    "    "
   ]
  },
  {
   "cell_type": "code",
   "execution_count": 30,
   "id": "33b0c7bf-6cae-4b61-b346-c73d63c41a75",
   "metadata": {},
   "outputs": [
    {
     "name": "stdin",
     "output_type": "stream",
     "text": [
      "Enter the current pin number 1234\n",
      "Enter the amount to deposit 1\n"
     ]
    },
    {
     "name": "stdout",
     "output_type": "stream",
     "text": [
      "1 deposited successfully!!!!\n",
      "current balance is Rs 25648.0\n"
     ]
    }
   ],
   "source": []
  },
  {
   "cell_type": "code",
   "execution_count": 40,
   "id": "f4633e49-59c6-401d-888c-244dff1f29cc",
   "metadata": {},
   "outputs": [
    {
     "name": "stdin",
     "output_type": "stream",
     "text": [
      "enter the initial pin  1234\n",
      "Enter th current balance 25621\n",
      "Enter the phone number 25412\n"
     ]
    },
    {
     "name": "stdout",
     "output_type": "stream",
     "text": [
      "initialize the pin and balance\n"
     ]
    }
   ],
   "source": [
    "atm1=Atm()\n"
   ]
  },
  {
   "cell_type": "code",
   "execution_count": 41,
   "id": "4244acbd-2da4-4f5e-86cf-b9cff570a913",
   "metadata": {},
   "outputs": [
    {
     "name": "stdout",
     "output_type": "stream",
     "text": [
      "__________Welcome to our Atm System_______\n",
      "\n",
      "       1--> check Balanace\n",
      "       2--> deposit\n",
      "       3--> withdraw\n",
      "       4--> change pin \n",
      "       5--> acc_info\n",
      "       6--> Exit\n",
      "    \n"
     ]
    },
    {
     "name": "stdin",
     "output_type": "stream",
     "text": [
      "Enter Your Choice : 5\n",
      "Enter the current pin number 1234\n"
     ]
    },
    {
     "name": "stdout",
     "output_type": "stream",
     "text": [
      "\n",
      "            ############### Acount Information #######\n",
      "            pin number : 1234  \n",
      "            balance : 25621.0\n",
      "            phone number : 25412\n",
      "           \n",
      "\n",
      "       1--> check Balanace\n",
      "       2--> deposit\n",
      "       3--> withdraw\n",
      "       4--> change pin \n",
      "       5--> acc_info\n",
      "       6--> Exit\n",
      "    \n"
     ]
    },
    {
     "name": "stdin",
     "output_type": "stream",
     "text": [
      "Enter Your Choice : 6\n"
     ]
    },
    {
     "name": "stdout",
     "output_type": "stream",
     "text": [
      "####### Thank You For Using #############\n"
     ]
    }
   ],
   "source": [
    "print(\"__________Welcome to our Atm System_______\")\n",
    "flag=True\n",
    "\n",
    "while flag:\n",
    "    print( \"\"\"\n",
    "       1--> check Balanace\n",
    "       2--> deposit\n",
    "       3--> withdraw\n",
    "       4--> change pin \n",
    "       5--> acc_info\n",
    "       6--> Exit\n",
    "    \"\"\")\n",
    "    user_inp=input(\"Enter Your Choice :\")\n",
    "    if user_inp=='1':\n",
    "        atm1.check_balance()\n",
    "    elif user_inp=='2':\n",
    "        atm1.deposit()\n",
    "    elif user_inp=='3':\n",
    "        atm1.withdraw()\n",
    "    elif user_inp=='4':\n",
    "        atm1.change_pin()\n",
    "    elif user_inp=='5':\n",
    "        atm1.show_detail()\n",
    "    elif user_inp=='6':\n",
    "        print(\"####### Thank You For Using #############\")\n",
    "        flag=False \n",
    "    else:\n",
    "        print(\"invalid choice \")\n"
   ]
  },
  {
   "cell_type": "code",
   "execution_count": null,
   "id": "2ffe0db8-2e2f-4cc0-88bc-26397171c07c",
   "metadata": {},
   "outputs": [],
   "source": []
  }
 ],
 "metadata": {
  "kernelspec": {
   "display_name": "Python 3 (ipykernel)",
   "language": "python",
   "name": "python3"
  },
  "language_info": {
   "codemirror_mode": {
    "name": "ipython",
    "version": 3
   },
   "file_extension": ".py",
   "mimetype": "text/x-python",
   "name": "python",
   "nbconvert_exporter": "python",
   "pygments_lexer": "ipython3",
   "version": "3.12.3"
  }
 },
 "nbformat": 4,
 "nbformat_minor": 5
}
