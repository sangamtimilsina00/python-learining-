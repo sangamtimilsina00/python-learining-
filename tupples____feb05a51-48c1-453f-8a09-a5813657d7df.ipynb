{
 "cells": [
  {
   "cell_type": "markdown",
   "id": "a45956b7-4b5f-4494-bf40-3e9879f005e4",
   "metadata": {},
   "source": [
    "# Tuples "
   ]
  },
  {
   "cell_type": "code",
   "execution_count": 1,
   "id": "ac945710-77b3-4285-a5ea-ecf685375c19",
   "metadata": {},
   "outputs": [
    {
     "name": "stdout",
     "output_type": "stream",
     "text": [
      "()\n",
      "<class 'tuple'>\n"
     ]
    }
   ],
   "source": [
    "t1=()\n",
    "\n",
    "print(t1)\n",
    "print(type(t1))"
   ]
  },
  {
   "cell_type": "code",
   "execution_count": 2,
   "id": "25e2bb55-fa3c-4624-9435-ec678893f5d5",
   "metadata": {},
   "outputs": [
    {
     "name": "stdout",
     "output_type": "stream",
     "text": [
      "(10, 20, 30, 40, 40, 50, 'hello', 'world')\n",
      "<class 'tuple'>\n"
     ]
    }
   ],
   "source": [
    "t1=(10,20,30,40,40,50,'hello','world')\n",
    "\n",
    "print(t1)\n",
    "print(type(t1))"
   ]
  },
  {
   "cell_type": "code",
   "execution_count": 3,
   "id": "930d1359-2285-4127-8c73-b733d4bc411b",
   "metadata": {},
   "outputs": [
    {
     "data": {
      "text/plain": [
       "10"
      ]
     },
     "execution_count": 3,
     "metadata": {},
     "output_type": "execute_result"
    }
   ],
   "source": [
    "t1[0]"
   ]
  },
  {
   "cell_type": "code",
   "execution_count": 5,
   "id": "2dce0000-619a-4642-a09f-7435e95b7aae",
   "metadata": {},
   "outputs": [],
   "source": [
    "# t1[0]=100"
   ]
  },
  {
   "cell_type": "raw",
   "id": "336d73f5-ebd7-40e9-8b45-75128a0ebc88",
   "metadata": {},
   "source": [
    "# data \n",
    "\n",
    "id  name address\n",
    "1   ram   kathmandu\n",
    "2   shyam pokhara\n",
    "3   hari  bhktapur\n",
    "\n",
    "[(1,ram,kathmandu),(2,shyam,pokhara),(3,hari,bhaktapur)]"
   ]
  },
  {
   "cell_type": "code",
   "execution_count": 8,
   "id": "1ae85f1b-93f0-4722-8f53-a51260b506bc",
   "metadata": {},
   "outputs": [
    {
     "name": "stdout",
     "output_type": "stream",
     "text": [
      "<class 'str'>\n",
      "<class 'int'>\n",
      "<class 'tuple'>\n",
      "<class 'tuple'>\n",
      "<class 'bool'>\n"
     ]
    }
   ],
   "source": [
    "tup5 = ('Asif', 25 ,(50, 100),(150, 90),True) \n",
    "\n",
    "for item in tup5:\n",
    "    print(type(item))"
   ]
  },
  {
   "cell_type": "markdown",
   "id": "c28737c2-2e9e-4e42-8e16-063a8d5d7320",
   "metadata": {},
   "source": [
    "# moffity in tupples "
   ]
  },
  {
   "cell_type": "code",
   "execution_count": 1,
   "id": "1f18afa9-d962-4acf-97c4-e64ce2fceece",
   "metadata": {},
   "outputs": [
    {
     "name": "stdout",
     "output_type": "stream",
     "text": [
      "(10, 20, 30)\n"
     ]
    },
    {
     "ename": "NameError",
     "evalue": "name 't1' is not defined",
     "output_type": "error",
     "traceback": [
      "\u001b[31m---------------------------------------------------------------------------\u001b[39m",
      "\u001b[31mNameError\u001b[39m                                 Traceback (most recent call last)",
      "\u001b[36mCell\u001b[39m\u001b[36m \u001b[39m\u001b[32mIn[1]\u001b[39m\u001b[32m, line 7\u001b[39m\n\u001b[32m      4\u001b[39m \u001b[38;5;66;03m# del t1[0]\u001b[39;00m\n\u001b[32m      6\u001b[39m \u001b[38;5;28;01mdel\u001b[39;00m t1\n\u001b[32m----> \u001b[39m\u001b[32m7\u001b[39m \u001b[38;5;28mprint\u001b[39m(\u001b[43mt1\u001b[49m)\n",
      "\u001b[31mNameError\u001b[39m: name 't1' is not defined"
     ]
    }
   ],
   "source": [
    "t1=(10,20,30)\n",
    "print(t1)\n",
    "\n",
    "# del t1[0]\n",
    "\n",
    "del t1\n",
    "print(t1)"
   ]
  },
  {
   "cell_type": "markdown",
   "id": "a8654c60-b74f-408a-b1d3-3d50a5be7f92",
   "metadata": {},
   "source": [
    "# loop through tupples "
   ]
  },
  {
   "cell_type": "code",
   "execution_count": 11,
   "id": "9fa9bb1b-bba8-423a-9b51-fdec39246178",
   "metadata": {},
   "outputs": [
    {
     "name": "stdout",
     "output_type": "stream",
     "text": [
      "10\n",
      "20\n",
      "30\n"
     ]
    }
   ],
   "source": [
    "t1=(10,20,30)\n",
    "for item in t1:\n",
    "    print(item)"
   ]
  },
  {
   "cell_type": "markdown",
   "id": "5a68c69b-d294-47cf-8607-15eda0d2009a",
   "metadata": {},
   "source": [
    "# enumerate in tupples "
   ]
  },
  {
   "cell_type": "code",
   "execution_count": 19,
   "id": "e7e0ece0-1a7e-4f3b-a718-79d532636563",
   "metadata": {},
   "outputs": [
    {
     "name": "stdout",
     "output_type": "stream",
     "text": [
      "(0, 60)\n",
      "(1, 34)\n",
      "(2, 32)\n",
      "(3, 12)\n",
      "(4, 10)\n",
      "(5, 5)\n"
     ]
    }
   ],
   "source": [
    "t1=(10,12,34,5,60,32)  # (      5,4, 2,6   1,3) \n",
    "\n",
    "for i in enumerate(sorted(t1,reverse=True)):\n",
    "    print(i)"
   ]
  },
  {
   "cell_type": "code",
   "execution_count": 16,
   "id": "acea336b-2132-443a-a611-ebd06d94fff9",
   "metadata": {},
   "outputs": [
    {
     "data": {
      "text/plain": [
       "[60, 34, 32, 12, 10, 5]"
      ]
     },
     "execution_count": 16,
     "metadata": {},
     "output_type": "execute_result"
    }
   ],
   "source": [
    "sorted(t1,reverse=True)"
   ]
  },
  {
   "cell_type": "markdown",
   "id": "5b021822-b4f9-49e6-a2ec-8d0fd9267ba2",
   "metadata": {},
   "source": [
    "# tupples "
   ]
  },
  {
   "cell_type": "code",
   "execution_count": 20,
   "id": "8f314f8c-2851-49ca-a0e4-5ae6e2c485cb",
   "metadata": {},
   "outputs": [
    {
     "name": "stdout",
     "output_type": "stream",
     "text": [
      "(10, 20, 30, 40, 50, 60)\n"
     ]
    }
   ],
   "source": [
    "t1=(10,20,30)\n",
    "\n",
    "t2=(40,50,60)\n",
    "\n",
    "print(t1+t2)"
   ]
  },
  {
   "cell_type": "code",
   "execution_count": 22,
   "id": "108bb91c-b5ab-4096-9de2-0c9538cd36ac",
   "metadata": {},
   "outputs": [
    {
     "data": {
      "text/plain": [
       "(10, 20, 30, 10, 20, 30, 10, 20, 30, 40, 50, 60, 40, 50, 60)"
      ]
     },
     "execution_count": 22,
     "metadata": {},
     "output_type": "execute_result"
    }
   ],
   "source": [
    "t1*3+t2*2"
   ]
  },
  {
   "cell_type": "markdown",
   "id": "63638bcc-1d0d-4d4b-9607-f2f3f1afb259",
   "metadata": {},
   "source": [
    "# tupples unpackings "
   ]
  },
  {
   "cell_type": "code",
   "execution_count": 28,
   "id": "a9be4217-20f6-470c-9223-5b2e562c69d0",
   "metadata": {},
   "outputs": [
    {
     "name": "stdout",
     "output_type": "stream",
     "text": [
      "1\n",
      "ram\n",
      "kathmandu\n"
     ]
    }
   ],
   "source": [
    "id_,name,address=(1,'ram','kathmandu')\n",
    "print(id_)\n",
    "print(name)\n",
    "print(address)"
   ]
  },
  {
   "cell_type": "code",
   "execution_count": 30,
   "id": "7080e21e-0eda-4927-aaa5-a80409b38ebd",
   "metadata": {},
   "outputs": [],
   "source": [
    "id_,name,address,*other=(1,'ram','kathmandu',10,20,30,40,50)"
   ]
  },
  {
   "cell_type": "code",
   "execution_count": 31,
   "id": "a98eb2be-2787-473d-b335-9f3c3c723268",
   "metadata": {},
   "outputs": [
    {
     "data": {
      "text/plain": [
       "1"
      ]
     },
     "execution_count": 31,
     "metadata": {},
     "output_type": "execute_result"
    }
   ],
   "source": [
    "id_"
   ]
  },
  {
   "cell_type": "code",
   "execution_count": 32,
   "id": "ce3a2a2d-8adc-47a9-b875-66bf47fd3d62",
   "metadata": {},
   "outputs": [
    {
     "data": {
      "text/plain": [
       "'ram'"
      ]
     },
     "execution_count": 32,
     "metadata": {},
     "output_type": "execute_result"
    }
   ],
   "source": [
    "name"
   ]
  },
  {
   "cell_type": "code",
   "execution_count": 33,
   "id": "b666dfd5-e89e-49a4-bbb0-1e57c0161ac7",
   "metadata": {},
   "outputs": [
    {
     "data": {
      "text/plain": [
       "'kathmandu'"
      ]
     },
     "execution_count": 33,
     "metadata": {},
     "output_type": "execute_result"
    }
   ],
   "source": [
    "address"
   ]
  },
  {
   "cell_type": "code",
   "execution_count": 34,
   "id": "7c1a4d27-2c7e-4407-b4fa-5e65b3f032b2",
   "metadata": {},
   "outputs": [
    {
     "data": {
      "text/plain": [
       "[10, 20, 30, 40, 50]"
      ]
     },
     "execution_count": 34,
     "metadata": {},
     "output_type": "execute_result"
    }
   ],
   "source": [
    "other"
   ]
  },
  {
   "cell_type": "code",
   "execution_count": 35,
   "id": "343b287a-a46c-46f4-b8a8-f3807d3ae5f8",
   "metadata": {},
   "outputs": [],
   "source": [
    "*id_,name,address,other=(1,'ram','kathmandu',10,20,30,40,50)"
   ]
  },
  {
   "cell_type": "code",
   "execution_count": 36,
   "id": "a09f0f40-8ef1-4016-909c-4e21476759df",
   "metadata": {},
   "outputs": [
    {
     "data": {
      "text/plain": [
       "[1, 'ram', 'kathmandu', 10, 20]"
      ]
     },
     "execution_count": 36,
     "metadata": {},
     "output_type": "execute_result"
    }
   ],
   "source": [
    "id_"
   ]
  },
  {
   "cell_type": "code",
   "execution_count": 37,
   "id": "a0121135-1379-4412-8552-389d60cabdf5",
   "metadata": {},
   "outputs": [
    {
     "data": {
      "text/plain": [
       "50"
      ]
     },
     "execution_count": 37,
     "metadata": {},
     "output_type": "execute_result"
    }
   ],
   "source": [
    "other"
   ]
  },
  {
   "cell_type": "code",
   "execution_count": 38,
   "id": "75fffaf5-c733-4b87-86e4-6365772fe5c3",
   "metadata": {},
   "outputs": [],
   "source": [
    "id_,*name,address,other=(1,'ram','kathmandu',10,20,30,40,50)"
   ]
  },
  {
   "cell_type": "code",
   "execution_count": 39,
   "id": "6471f032-4c10-471a-a3ef-5fedca5579f3",
   "metadata": {},
   "outputs": [
    {
     "data": {
      "text/plain": [
       "['ram', 'kathmandu', 10, 20, 30]"
      ]
     },
     "execution_count": 39,
     "metadata": {},
     "output_type": "execute_result"
    }
   ],
   "source": [
    "name"
   ]
  },
  {
   "cell_type": "markdown",
   "id": "bc336d61-f8ce-4591-a42e-4f7d952f647b",
   "metadata": {},
   "source": [
    "# swap the values without using the 3rd variables "
   ]
  },
  {
   "cell_type": "code",
   "execution_count": 41,
   "id": "27c16575-1baa-469d-a41b-46ae7e9e6187",
   "metadata": {},
   "outputs": [
    {
     "name": "stdout",
     "output_type": "stream",
     "text": [
      "Before Swapping a : 10   b : 20\n",
      "Before Swapping a : 20   b : 10\n"
     ]
    }
   ],
   "source": [
    "a=10\n",
    "b=20\n",
    "print(f'Before Swapping a : {a}   b : {b}')\n",
    "b,a=(a,b)\n",
    "print(f'Before Swapping a : {a}   b : {b}')"
   ]
  },
  {
   "cell_type": "code",
   "execution_count": 51,
   "id": "2c4edcef-d85e-4cb2-9840-14074c71d5f9",
   "metadata": {},
   "outputs": [
    {
     "data": {
      "text/plain": [
       "('h', 'e', 'l', 'l', 'o')"
      ]
     },
     "execution_count": 51,
     "metadata": {},
     "output_type": "execute_result"
    }
   ],
   "source": [
    "tuple(list(tuple(\"hello\")))"
   ]
  },
  {
   "cell_type": "markdown",
   "id": "7662c3d4-2f8e-41c8-a9eb-ac180157567b",
   "metadata": {},
   "source": [
    "# tupple into list and again tupple "
   ]
  },
  {
   "cell_type": "code",
   "execution_count": 49,
   "id": "594456a7-02a3-4b60-9192-0e8d11f9f88a",
   "metadata": {},
   "outputs": [
    {
     "name": "stdout",
     "output_type": "stream",
     "text": [
      "(10, 30, 40, 50, 60, 70)\n",
      "(10, 20, 30, 40, 50, 60, 70)\n"
     ]
    }
   ],
   "source": [
    "t1=(10,30,40,50,60,70)\n",
    "print(t1)\n",
    "\n",
    "t1=list(t1)\n",
    "t1.insert(1,20)\n",
    "t1=tuple(t1)\n",
    "print(t1)"
   ]
  },
  {
   "cell_type": "code",
   "execution_count": null,
   "id": "2cc86a50-e33e-475d-8f72-75f283720ad4",
   "metadata": {},
   "outputs": [],
   "source": [
    "# delete , pop , insert   ### X Not Possible "
   ]
  },
  {
   "cell_type": "markdown",
   "id": "51c79726-2d01-40e2-a875-611221180bcc",
   "metadata": {},
   "source": [
    "# universal fu ctions : min max , sum , len"
   ]
  },
  {
   "cell_type": "code",
   "execution_count": 52,
   "id": "b10ba2d2-e61a-4129-8fdb-d156c34c2a6b",
   "metadata": {},
   "outputs": [
    {
     "name": "stdout",
     "output_type": "stream",
     "text": [
      "5\n",
      "100\n",
      "6\n",
      "228\n"
     ]
    }
   ],
   "source": [
    "t1=(10,30,5,23,100,60)\n",
    "print(min(t1))\n",
    "print(max(t1))\n",
    "print(len(t1))\n",
    "print(sum(t1))"
   ]
  },
  {
   "cell_type": "markdown",
   "id": "6d3b0f8d-d1d0-4537-ae0d-d660d2bad85a",
   "metadata": {},
   "source": [
    "## Fibd the % contribution from the list"
   ]
  },
  {
   "cell_type": "code",
   "execution_count": 56,
   "id": "09d276ac-8f82-4d40-aba7-07d66720d7eb",
   "metadata": {},
   "outputs": [],
   "source": [
    "marks=[10,23,45,32,90]   #     [10000,20000,50000]"
   ]
  },
  {
   "cell_type": "code",
   "execution_count": null,
   "id": "16b1a3bd-d665-40c0-88fd-eca5bab87124",
   "metadata": {},
   "outputs": [],
   "source": [
    "obt_markd/total_marks*100"
   ]
  },
  {
   "cell_type": "code",
   "execution_count": 55,
   "id": "1d00ac8a-1d81-4793-837b-a0078555d8c6",
   "metadata": {},
   "outputs": [
    {
     "data": {
      "text/plain": [
       "45.0"
      ]
     },
     "execution_count": 55,
     "metadata": {},
     "output_type": "execute_result"
    }
   ],
   "source": [
    "(90/sum([10,23,45,32,90]))*100"
   ]
  },
  {
   "cell_type": "code",
   "execution_count": 58,
   "id": "9b355f35-87ff-4075-8522-e32417361d3d",
   "metadata": {},
   "outputs": [
    {
     "name": "stdout",
     "output_type": "stream",
     "text": [
      "5.0\n",
      "11.5\n",
      "22.5\n",
      "16.0\n",
      "45.0\n"
     ]
    }
   ],
   "source": [
    "marks=[10,23,45,32,90]  \n",
    "total=sum(marks)\n",
    "\n",
    "per_con=[]\n",
    "\n",
    "for item in marks:\n",
    "    print((item/total)*100)"
   ]
  },
  {
   "cell_type": "code",
   "execution_count": null,
   "id": "a17c5b39-f8fb-4610-9de7-c4e4ff6a60c6",
   "metadata": {},
   "outputs": [],
   "source": []
  }
 ],
 "metadata": {
  "kernelspec": {
   "display_name": "Python 3 (ipykernel)",
   "language": "python",
   "name": "python3"
  },
  "language_info": {
   "codemirror_mode": {
    "name": "ipython",
    "version": 3
   },
   "file_extension": ".py",
   "mimetype": "text/x-python",
   "name": "python",
   "nbconvert_exporter": "python",
   "pygments_lexer": "ipython3",
   "version": "3.12.3"
  }
 },
 "nbformat": 4,
 "nbformat_minor": 5
}
