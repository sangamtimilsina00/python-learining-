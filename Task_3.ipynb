{
 "cells": [
  {
   "cell_type": "code",
   "execution_count": 16,
   "id": "badf1ae9-895b-455b-87c0-71432b3c8647",
   "metadata": {},
   "outputs": [
    {
     "name": "stdout",
     "output_type": "stream",
     "text": [
      "3\n"
     ]
    },
    {
     "data": {
      "text/plain": [
       "'helpythonloo'"
      ]
     },
     "execution_count": 16,
     "metadata": {},
     "output_type": "execute_result"
    }
   ],
   "source": [
    "f_s=\"helloo\"\n",
    "s_s=\"python\"\n",
    "n1=int(len(f_s)/2)\n",
    "print(n1)\n",
    "\n",
    "output_string=f_s[:n1]+s_s+f_s[n1:]\n",
    "output_string\n",
    "\n"
   ]
  },
  {
   "cell_type": "code",
   "execution_count": 22,
   "id": "f44feb6a-20e6-4884-97b9-ce8300f9ef32",
   "metadata": {},
   "outputs": [
    {
     "data": {
      "text/plain": [
       "'DSMP'"
      ]
     },
     "execution_count": 22,
     "metadata": {},
     "output_type": "execute_result"
    }
   ],
   "source": [
    "#: Create Short Form from initial character\n",
    "words=\"data science mentorship program\"\n",
    "word=words.split()\n",
    "word[0].upper()[0]+word[1].upper()[0]+word[2].upper()[0]+word[3].upper()[0]"
   ]
  },
  {
   "cell_type": "code",
   "execution_count": 23,
   "id": "d0e1c2c8-2292-4a5b-9938-2af9f29ed2e9",
   "metadata": {},
   "outputs": [
    {
     "name": "stdout",
     "output_type": "stream",
     "text": [
      "2\n"
     ]
    },
    {
     "data": {
      "text/plain": [
       "'widoll'"
      ]
     },
     "execution_count": 23,
     "metadata": {},
     "output_type": "execute_result"
    }
   ],
   "source": [
    "# Append second string in the middle of first string\n",
    "f_s=\"will\"\n",
    "s_s=\"do\"\n",
    "n1=int(len(f_s)/2)\n",
    "print(n1)\n",
    "\n",
    "output_string=f_s[:n1]+s_s+f_s[n1:]\n",
    "output_string\n"
   ]
  },
  {
   "cell_type": "code",
   "execution_count": 26,
   "id": "99d10f91-1f2b-4bda-aa8b-d4c4caf43437",
   "metadata": {},
   "outputs": [
    {
     "data": {
      "text/plain": [
       "'yaivePNT'"
      ]
     },
     "execution_count": 26,
     "metadata": {},
     "output_type": "execute_result"
    }
   ],
   "source": [
    "#Given string contains a combination of the lower and upper case letters. Write a program\n",
    "#to arrange the characters of a string so that all lowercase letters should come first.\n",
    "\n",
    "input='PyNaTive'\n",
    "output=\"\"\n",
    "for s in input:\n",
    "    if s.islower():\n",
    "        output=output+s\n",
    "for s in input:\n",
    "    if s.isupper():\n",
    "        output=output+s\n",
    "output"
   ]
  },
  {
   "cell_type": "code",
   "execution_count": 41,
   "id": "a914fa97-bbea-4252-8598-1dc874b182aa",
   "metadata": {},
   "outputs": [
    {
     "name": "stdout",
     "output_type": "stream",
     "text": [
      "[1, 2, 3, 4, 0, 9, 3]\n",
      "7\n",
      "22\n",
      "3.142857142857143\n"
     ]
    }
   ],
   "source": [
    "#Take a alphanumeric string input and print the sum and average of the digits that appear in\n",
    "#the string, ignoring all other characters.\n",
    "\n",
    "input='hel123O4every093'.strip()\n",
    "list=[]\n",
    "for s in input:\n",
    "    if s.isdigit():\n",
    "        list.append(int(s))\n",
    "total=sum(list)\n",
    "print(list)\n",
    "print(len(list))\n",
    "\n",
    "\n",
    "print(total)\n",
    "print(total/len(list))\n",
    "\n",
    "\n",
    "\n"
   ]
  },
  {
   "cell_type": "code",
   "execution_count": 43,
   "id": "0a5667ff-68ec-42a3-97ca-0980e41779c0",
   "metadata": {},
   "outputs": [
    {
     "data": {
      "text/plain": [
       "2510"
      ]
     },
     "execution_count": 43,
     "metadata": {},
     "output_type": "execute_result"
    }
   ],
   "source": [
    "#Removal of all characters from a string except integers\n",
    "\n",
    "input='I am 25 years and 10 months old'\n",
    "output=\"\"\n",
    "for s in input:\n",
    "    if s.isdigit():\n",
    "        output=output+s\n",
    "output\n",
    "int(output)\n"
   ]
  },
  {
   "cell_type": "code",
   "execution_count": 5,
   "id": "b71248fa-0e31-45bb-9e34-58ca5d7cec07",
   "metadata": {},
   "outputs": [
    {
     "name": "stdout",
     "output_type": "stream",
     "text": [
      "The entered string is symmetrical\n"
     ]
    }
   ],
   "source": [
    "#Check whether the string is Symmetrical.\n",
    "i_s=\"khokho\"\n",
    "n=int(len(i_s)/2)\n",
    "f_s=i_s[:n].upper()\n",
    "\n",
    "l_s=i_s[n:].upper()\n",
    "if f_s==l_s:\n",
    "    print(\"The entered string is symmetrical\")\n"
   ]
  },
  {
   "cell_type": "code",
   "execution_count": 16,
   "id": "7ed34705-e458-475d-b7c7-1be2ecb2a9e9",
   "metadata": {},
   "outputs": [
    {
     "data": {
      "text/plain": [
       "'sangam is name my'"
      ]
     },
     "execution_count": 16,
     "metadata": {},
     "output_type": "execute_result"
    }
   ],
   "source": [
    "#: Reverse words in a given String\n",
    "input='my name is sangam'\n",
    "list=input.split()\n",
    "reverse_word=list[::-1]\n",
    "\" \".join(reverse_word)\n",
    "\n"
   ]
  },
  {
   "cell_type": "code",
   "execution_count": 19,
   "id": "08698e3a-0e33-4346-a458-a02ae88c514d",
   "metadata": {},
   "outputs": [
    {
     "data": {
      "text/plain": [
       "'code practice quiz geeks'"
      ]
     },
     "execution_count": 19,
     "metadata": {},
     "output_type": "execute_result"
    }
   ],
   "source": [
    "input2='geeks quiz practice code'\n",
    "list2=input2.split()\n",
    "reverse_words=list2[::-1]\n",
    "\" \".join(reverse_words)\n"
   ]
  },
  {
   "cell_type": "code",
   "execution_count": 38,
   "id": "4df03d34-daf9-4995-9a8d-9078b1b5cb45",
   "metadata": {},
   "outputs": [
    {
     "data": {
      "text/plain": [
       "['apple', 'fruits']"
      ]
     },
     "execution_count": 38,
     "metadata": {},
     "output_type": "execute_result"
    }
   ],
   "source": [
    "#Find uncommon words from two Strings.\n",
    "A = \"apple banana mango\"\n",
    "B = \"banana fruits mango\"\n",
    "string=(A+\" \" +B).split()\n",
    "list=[]\n",
    "for z in string:\n",
    "    if string.count(z)==1:\n",
    "        list.append(z)\n",
    "list\n",
    "\n",
    "    \n",
    "  \n",
    "\n"
   ]
  },
  {
   "cell_type": "code",
   "execution_count": 71,
   "id": "2438dc1a-a1af-496b-9584-3e7c3d735d87",
   "metadata": {},
   "outputs": [
    {
     "name": "stdout",
     "output_type": "stream",
     "text": [
      "location of sipalay is : 7\n"
     ]
    }
   ],
   "source": [
    "#Word location in String.We can learn data science through sipalaya mentorship program.\"\n",
    "word=\"We can learn data science through sipalaya mentorship program.\"\n",
    "s_word=\"sipalaya\"\n",
    "split_word=word.lower().split()\n",
    "split_word\n",
    "position=1\n",
    "for x in split_word:\n",
    "    if x=='sipalaya':\n",
    "        print(\"location of sipalay is :\",position)\n",
    "        break\n",
    "        \n",
    "    \n",
    "    position+=1\n"
   ]
  },
  {
   "cell_type": "markdown",
   "id": "32342c18-ab45-415b-9d39-11df70a19d3d",
   "metadata": {},
   "source": [
    "# #Write a program that can remove all the duplicate characters from a string. User will\n",
    "# provide the input.\n",
    "\n"
   ]
  },
  {
   "cell_type": "code",
   "execution_count": 73,
   "id": "c1c9f6a7-2445-41d2-a7fd-ed4b509cf1d5",
   "metadata": {},
   "outputs": [
    {
     "data": {
      "text/plain": [
       "'abcdef'"
      ]
     },
     "execution_count": 73,
     "metadata": {},
     "output_type": "execute_result"
    }
   ],
   "source": [
    "\n",
    "s='aaaabbbbbccccdddeeeeffff'\n",
    "output=''\n",
    "for x in s:\n",
    "    if output.count(x)==0:\n",
    "        output+=x\n",
    "output"
   ]
  },
  {
   "cell_type": "code",
   "execution_count": null,
   "id": "df52767a-01c3-4a87-849d-84fcaaddb918",
   "metadata": {},
   "outputs": [],
   "source": []
  }
 ],
 "metadata": {
  "kernelspec": {
   "display_name": "Python 3 (ipykernel)",
   "language": "python",
   "name": "python3"
  },
  "language_info": {
   "codemirror_mode": {
    "name": "ipython",
    "version": 3
   },
   "file_extension": ".py",
   "mimetype": "text/x-python",
   "name": "python",
   "nbconvert_exporter": "python",
   "pygments_lexer": "ipython3",
   "version": "3.12.3"
  }
 },
 "nbformat": 4,
 "nbformat_minor": 5
}
