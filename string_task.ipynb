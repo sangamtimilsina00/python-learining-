{
 "cells": [
  {
   "cell_type": "code",
   "execution_count": 9,
   "id": "419d6d63-3a98-4ffe-a505-c3b31cd2bad7",
   "metadata": {},
   "outputs": [
    {
     "data": {
      "text/plain": [
       "'PRG'"
      ]
     },
     "execution_count": 9,
     "metadata": {},
     "output_type": "execute_result"
    }
   ],
   "source": [
    "#1\n",
    "name=\"Puspa Raj Giri\"\n",
    "name=name.split()\n",
    "string=\"\"\n",
    "for i in name:\n",
    "    string+=i[0]\n",
    "string\n"
   ]
  },
  {
   "cell_type": "code",
   "execution_count": 11,
   "id": "add25521-d2e5-427d-98c3-6222b6c54188",
   "metadata": {},
   "outputs": [
    {
     "name": "stdout",
     "output_type": "stream",
     "text": [
      "sita@gmail.com is personal email\n"
     ]
    }
   ],
   "source": [
    "#Email Domain Checker\n",
    "email=\"sita@gmail.com\"\n",
    "if email.endswith(\"@gmail.com\"):\n",
    "    print(f'{email} is personal email')"
   ]
  },
  {
   "cell_type": "code",
   "execution_count": 2,
   "id": "745a80a6-3157-4d26-847e-edd7352e3178",
   "metadata": {},
   "outputs": [
    {
     "data": {
      "text/plain": [
       "'Brand New Samsung Ga...'"
      ]
     },
     "execution_count": 2,
     "metadata": {},
     "output_type": "execute_result"
    }
   ],
   "source": [
    "#shorten product description\n",
    "des='Brand New Samsung Galaxy S21 Ultra-256GB '\n",
    "des[:20]+'...'"
   ]
  },
  {
   "cell_type": "markdown",
   "id": "ba79f74d-1912-4152-b120-81a7343a76e5",
   "metadata": {},
   "source": [
    "#4\n",
    "string=\"Kathmandu-32,Bagmati\"\n",
    "if \"Kathmandu\" in string:\n",
    "    print(\"it is present\")\n",
    "else:\n",
    "    print(\"not present\")"
   ]
  },
  {
   "cell_type": "code",
   "execution_count": 3,
   "id": "26d39c71-ee51-4f02-bbc4-71cf6d0fdbc4",
   "metadata": {},
   "outputs": [
    {
     "name": "stdout",
     "output_type": "stream",
     "text": [
      "it is present\n"
     ]
    }
   ],
   "source": [
    "# 4\n",
    "string=\"Kathmandu-32,Bagmati\"\n",
    "if \"Kathmandu\" in string:\n",
    "    print(\"it is present\") \n",
    "else: \n",
    "    print(\"not present\")"
   ]
  },
  {
   "cell_type": "code",
   "execution_count": 8,
   "id": "37b7eaa2-98b4-4e53-bcb5-57f4ef767eff",
   "metadata": {},
   "outputs": [
    {
     "data": {
      "text/plain": [
       "'data.csv'"
      ]
     },
     "execution_count": 8,
     "metadata": {},
     "output_type": "execute_result"
    }
   ],
   "source": [
    "#log message format\n",
    "string='ERROR: File Not Found - data.csv'\n",
    "string[-8:]"
   ]
  },
  {
   "cell_type": "code",
   "execution_count": 12,
   "id": "e738d1ac-2c60-4e03-a6cc-472d7fc1a2d9",
   "metadata": {},
   "outputs": [
    {
     "data": {
      "text/plain": [
       "'sangam2002'"
      ]
     },
     "execution_count": 12,
     "metadata": {},
     "output_type": "execute_result"
    }
   ],
   "source": [
    "#generate user id\n",
    "name,date=\"sangam timilsina\",2002\n",
    "userid=name.split()[0]+str(date)\n",
    "userid\n"
   ]
  },
  {
   "cell_type": "code",
   "execution_count": 13,
   "id": "37d2ca6b-996e-4952-bf4e-93c87a1e61c1",
   "metadata": {},
   "outputs": [
    {
     "data": {
      "text/plain": [
       "'(980)-123-4567'"
      ]
     },
     "execution_count": 13,
     "metadata": {},
     "output_type": "execute_result"
    }
   ],
   "source": [
    "#standardize phone number format\n",
    "number=\"9801234567\"\n",
    "output='('+number[:3]+')'+\"-\"+number[3:6]+\"-\"+number[6:]\n",
    "output"
   ]
  },
  {
   "cell_type": "code",
   "execution_count": 22,
   "id": "384f77a0-358a-46d8-b511-4caa28be88ba",
   "metadata": {},
   "outputs": [
    {
     "data": {
      "text/plain": [
       "'****-5678-9101'"
      ]
     },
     "execution_count": 22,
     "metadata": {},
     "output_type": "execute_result"
    }
   ],
   "source": [
    "#Mask Aadhar/SSN Number\n",
    "string=\"1234-5678-9101\"\n",
    "output=string.replace(string[0:4],'****')\n",
    "output=output.replace(string[5:9],'****')\n",
    "output"
   ]
  },
  {
   "cell_type": "code",
   "execution_count": 23,
   "id": "42a38383-6454-404c-bf5c-dfa079e8f867",
   "metadata": {},
   "outputs": [
    {
     "name": "stdout",
     "output_type": "stream",
     "text": [
      "4 out of 5\n"
     ]
    }
   ],
   "source": [
    "#check whether feedback contains keyword\n",
    "feedback=\"The service was excellent and fast\"\n",
    "if \"fast\" in feedback:\n",
    "    print(\"4 out of 5\")"
   ]
  },
  {
   "cell_type": "code",
   "execution_count": 25,
   "id": "6fd5532b-d4a2-4446-abb3-bd59020af563",
   "metadata": {},
   "outputs": [
    {
     "name": "stdout",
     "output_type": "stream",
     "text": [
      "John is from nepal\n"
     ]
    }
   ],
   "source": [
    "#Check user is from Nepal\n",
    "user_add=\"John, New Road, Pokhara, Nepal\"\n",
    "if \"NEPAL\" in user_add.replace(\",\",\"\").upper():\n",
    "    \n",
    "    print(f'{user_add.split()[0].replace(\",\",\"\")} is from nepal')"
   ]
  },
  {
   "cell_type": "code",
   "execution_count": 38,
   "id": "0dfd5be9-7a9f-42a6-80ba-db0a47728f38",
   "metadata": {},
   "outputs": [
    {
     "data": {
      "text/plain": [
       "'pkr'"
      ]
     },
     "execution_count": 38,
     "metadata": {},
     "output_type": "execute_result"
    }
   ],
   "source": [
    "#Extract area code from emailID\n",
    "email='john.doe.pkr123@gmail.com'\n",
    "username=email.split(\"@\")[0]\n",
    "last_dot=username.rfind(\".\")\n",
    "\n",
    "\n",
    "area=''\n",
    "for x in username[last_dot+1:]:\n",
    "    if x.isdigit():\n",
    "        break\n",
    "    area+=x\n",
    "        \n",
    "area"
   ]
  },
  {
   "cell_type": "code",
   "execution_count": 40,
   "id": "d6f91a7d-c1a7-4ff4-b82b-3e20bcd0380d",
   "metadata": {},
   "outputs": [
    {
     "name": "stdout",
     "output_type": "stream",
     "text": [
      "Female\n"
     ]
    }
   ],
   "source": [
    "#Check Gender from ID Prefix\n",
    "n_id='F-2394023'\n",
    "if n_id.startswith(\"M-\"):\n",
    "    print(\"Male\")\n",
    "elif n_id.startswith(\"F-\"):\n",
    "    print(\"Female\")\n",
    "else:\n",
    "    print(\"Unknown\")"
   ]
  },
  {
   "cell_type": "code",
   "execution_count": 43,
   "id": "5abc1fbb-477b-49b3-8a29-ac3ad430867a",
   "metadata": {},
   "outputs": [
    {
     "name": "stdout",
     "output_type": "stream",
     "text": [
      "This is such a ***** service.\n"
     ]
    }
   ],
   "source": [
    "#Redact Offensice Words in Comment\n",
    "string=\"This is such a stupid service.\"\n",
    "print(string.replace(\"stupid\",\"*****\"))"
   ]
  },
  {
   "cell_type": "code",
   "execution_count": 49,
   "id": "07ce7928-7fb4-4f71-980e-b576ca82a2fb",
   "metadata": {},
   "outputs": [
    {
     "data": {
      "text/plain": [
       "['Dashain', 'kathmandu']"
      ]
     },
     "execution_count": 49,
     "metadata": {},
     "output_type": "execute_result"
    }
   ],
   "source": [
    "#Extract Hastags from a Tweet \n",
    "tweet=\"Enjoying the #Dashain vibes in #kathmandu\"\n",
    "list=tweet.split()\n",
    "list1=[]\n",
    "for x in list:\n",
    "    if x.startswith(\"#\"):\n",
    "        \n",
    "        list1.append(x.replace(\"#\",\"\"))\n",
    "list1\n"
   ]
  },
  {
   "cell_type": "code",
   "execution_count": 51,
   "id": "d69648d7-ecae-43eb-9250-2847dedaa9a1",
   "metadata": {},
   "outputs": [
    {
     "name": "stdout",
     "output_type": "stream",
     "text": [
      "+977\n",
      "9801234567\n"
     ]
    }
   ],
   "source": [
    "#extreact country code from international phone\n",
    "phn='+977-9801234567'\n",
    "country_Code=phn.split(\"-\")[0]\n",
    "local_phn=phn.split(\"-\")[1]\n",
    "print(country_Code)\n",
    "print(local_phn)"
   ]
  },
  {
   "cell_type": "code",
   "execution_count": 52,
   "id": "89f0e45d-538f-48a9-8595-9b65f135e96c",
   "metadata": {},
   "outputs": [
    {
     "data": {
      "text/plain": [
       "'Python is a popular programming language known for its simplicity and readability. It is widely used...'"
      ]
     },
     "execution_count": 52,
     "metadata": {},
     "output_type": "execute_result"
    }
   ],
   "source": [
    "#smart truncate of sentences\n",
    "string=\"\"\"Python is a popular programming language known for its simplicity and readability. It is widely used for web development, data\n",
    "analysis, artificial intelligence, machine learning, automation, and many other applications. Python has a large collection of libraries\n",
    "and frameworks that make programming faster and easier. Its clear syntax allows beginners to learn programming concepts quickly while \n",
    "still being powerful enough for professionals to build complex systems.\"\"\"\n",
    "\n",
    "string=string[:100]+\"...\"\n",
    "string"
   ]
  },
  {
   "cell_type": "code",
   "execution_count": 56,
   "id": "741ff4b5-5755-40e4-89ed-ed1647460d55",
   "metadata": {},
   "outputs": [
    {
     "name": "stdout",
     "output_type": "stream",
     "text": [
      "Weak password\n"
     ]
    }
   ],
   "source": [
    "password=\"dsfk2asd8\"\n",
    "has_8=False\n",
    "has_number=False\n",
    "has_upper=False\n",
    "has_character=False\n",
    "for x in password:\n",
    "    if len(password)>=8:\n",
    "        has_8=True\n",
    "    if x in \"ABCDEFGHIJKLMNOPQRSTUVWXYZ\":\n",
    "        has_upper=True\n",
    "    if x in \"0123456789\":\n",
    "        has_number=True\n",
    "    if x in \"!@#$%^&*()_+-=/{}[]\":\n",
    "        has_character=True\n",
    "if has_8 & has_number & has_upper & has_character :\n",
    "    print(\"Strong password\")\n",
    "else:\n",
    "    print(\"Weak password\")\n",
    "    "
   ]
  },
  {
   "cell_type": "code",
   "execution_count": 58,
   "id": "b4ca7e00-eb85-4308-bdde-4cece878add7",
   "metadata": {},
   "outputs": [
    {
     "data": {
      "text/plain": [
       "'2025'"
      ]
     },
     "execution_count": 58,
     "metadata": {},
     "output_type": "execute_result"
    }
   ],
   "source": [
    "event=\"Startup World Cup Nepal 2025\"\n",
    "event[-4:]"
   ]
  },
  {
   "cell_type": "code",
   "execution_count": 63,
   "id": "e8484267-64a1-4274-acf8-66fbd19bfe30",
   "metadata": {},
   "outputs": [
    {
     "name": "stdout",
     "output_type": "stream",
     "text": [
      "Nepali Language\n"
     ]
    }
   ],
   "source": [
    "#check language from message prefix\n",
    "message=\"[NP] Welcome to sipalaya\"\n",
    "if '[EN]' in message.split():\n",
    "    print(\"English language\")\n",
    "elif '[NP]' in message.split() :\n",
    "    print(\"Nepali Language\")\n",
    "elif \"[JAP]\" in message.split():\n",
    "    print(\"Japanese Language\")\n",
    "else:\n",
    "    print(\"Other Language\")\n",
    "\n"
   ]
  },
  {
   "cell_type": "code",
   "execution_count": 72,
   "id": "92cd0f67-d013-4e31-b366-cfcab154579c",
   "metadata": {},
   "outputs": [
    {
     "name": "stdout",
     "output_type": "stream",
     "text": [
      "positive review\n"
     ]
    }
   ],
   "source": [
    "#summarize customer review\n",
    "review =\"\"\"I absolutely loved the food and the ambience, but the\n",
    "service was a bit slow.\"\"\".lower().replace(',','').replace('.','')\n",
    "positive_word=[\"loved\",\"great\" , \"amazing\"]\n",
    "negative_word=['slow','fast']\n",
    "if any(word in review.split() for word in positive_word):\n",
    "    print('positive review')\n",
    "elif any(word in review.split() for word in negative_word):\n",
    "    print('negative review')\n",
    "else:\n",
    "    print(\"Neutral\")\n"
   ]
  },
  {
   "cell_type": "markdown",
   "id": "7597d32d-4c8b-4a08-a071-3710fa05713e",
   "metadata": {},
   "source": [
    "# #1. Age Eligibility Check (Comparison Operator)\n",
    "# Given an age age = 17, check if the user is eligible to vote (18+). Print \"Eligible\" or\n",
    "# \"Not Eligible\".\n"
   ]
  },
  {
   "cell_type": "code",
   "execution_count": 73,
   "id": "82caa478-bc2f-40a6-a105-5da831c33893",
   "metadata": {},
   "outputs": [
    {
     "name": "stdout",
     "output_type": "stream",
     "text": [
      "Not Eligible\n"
     ]
    }
   ],
   "source": [
    "age=17\n",
    "if age>=18:\n",
    "    print(\"Eligible\")\n",
    "else:\n",
    "    print(\"Not Eligible\")"
   ]
  },
  {
   "cell_type": "markdown",
   "id": "3882309e-7926-422f-b073-c636f3b26e74",
   "metadata": {},
   "source": [
    "2. Compare Product Prices (Relational Operators)\n",
    "Given two product prices price1 = 999, price2 = 1199, print which product is\n",
    "cheaper.\n"
   ]
  },
  {
   "cell_type": "code",
   "execution_count": 74,
   "id": "10582ed0-8b23-4a43-bb08-ed7996a62321",
   "metadata": {},
   "outputs": [
    {
     "name": "stdout",
     "output_type": "stream",
     "text": [
      "product 1 is cheaper\n"
     ]
    }
   ],
   "source": [
    "price1=999\n",
    "price2=1199\n",
    "if price1>price2:\n",
    "    print('product 2 is cheaper ')\n",
    "else:\n",
    "    print('product 1 is cheaper')"
   ]
  },
  {
   "cell_type": "markdown",
   "id": "6450e0d0-b831-460e-ac8e-c18749ad01b3",
   "metadata": {},
   "source": [
    "Check If Number is Even (Modulus Operator)\n",
    "Given user_id = 1023, determine if the ID is even or odd using %."
   ]
  },
  {
   "cell_type": "code",
   "execution_count": 75,
   "id": "5f07d669-cb72-4951-9f52-2f1e4fa17403",
   "metadata": {},
   "outputs": [
    {
     "name": "stdout",
     "output_type": "stream",
     "text": [
      "1023 is odd\n"
     ]
    }
   ],
   "source": [
    "user_id=1023\n",
    "if user_id%2==0:\n",
    "    print(f'{user_id} is even')\n",
    "else:\n",
    "    print(f'{user_id} is odd')\n",
    "    "
   ]
  },
  {
   "cell_type": "markdown",
   "id": "32f85504-e6a7-4a24-be8b-bbd7abf50cec",
   "metadata": {},
   "source": [
    "Discount Condition Check (Logical AND)\n",
    "If customer_type == \"Gold\" and purchase_amount > 5000, apply a 20% discount.\n",
    "Use if with and."
   ]
  },
  {
   "cell_type": "code",
   "execution_count": 78,
   "id": "9acccac9-a411-4202-9fa8-7352c0601e99",
   "metadata": {},
   "outputs": [
    {
     "name": "stdin",
     "output_type": "stream",
     "text": [
      "enter the custom type Gold\n",
      "enter the purchase amount 4999\n"
     ]
    },
    {
     "name": "stdout",
     "output_type": "stream",
     "text": [
      "discount amount is 0\n",
      "amount after discount is 4999.0\n"
     ]
    }
   ],
   "source": [
    "custom_type=input(\"enter the custom type\")\n",
    "\n",
    "purchase_amount=float(input(\"enter the purchase amount\"))\n",
    "discount_amount=0\n",
    "amount_after_discount=purchase_amount-discount_amount\n",
    "if purchase_amount>5000 and custom_type==\"Gold\":\n",
    "    discount_amount=0.2*purchase_amount\n",
    "    amount_after_discount=0.8*purchase_amount\n",
    "print(f'discount amount is {discount_amount}')\n",
    "print(f'amount after discount is {amount_after_discount}')\n"
   ]
  },
  {
   "cell_type": "markdown",
   "id": "fc22be62-b2a0-4b00-8828-667176b462b0",
   "metadata": {},
   "source": [
    "Check If a Letter Is a Vowel (in Operator)\n",
    "Given a character c = 'e', check if it’s a vowel using in."
   ]
  },
  {
   "cell_type": "code",
   "execution_count": 80,
   "id": "40bdbc60-b7ee-47a0-b47b-4e287d34f75e",
   "metadata": {},
   "outputs": [
    {
     "name": "stdout",
     "output_type": "stream",
     "text": [
      "vowel\n"
     ]
    }
   ],
   "source": [
    "c='e'\n",
    "vowel=['a','e','i','o','u']\n",
    "if c in vowel:\n",
    "    print(\"vowel\")\n",
    "else:\n",
    "    print(\"consonent\")"
   ]
  },
  {
   "cell_type": "markdown",
   "id": "33527dfb-0410-45dd-9f1b-8f0df7847b0c",
   "metadata": {},
   "source": [
    "6. Password Match (Equality Operator)\n",
    "Check if entered password input_pass matches stored password db_pass. Show\n",
    "\"Access Granted\" or \"Access Denied\"."
   ]
  },
  {
   "cell_type": "code",
   "execution_count": 81,
   "id": "220dbb19-043b-4f7a-a2c5-6fdfb03a253f",
   "metadata": {},
   "outputs": [
    {
     "name": "stdin",
     "output_type": "stream",
     "text": [
      "Enter the password sipalua\n"
     ]
    },
    {
     "name": "stdout",
     "output_type": "stream",
     "text": [
      "Access Denied\n"
     ]
    }
   ],
   "source": [
    "password=input(\"Enter the password\")\n",
    "db_pass=\"Sipalaya@123\"\n",
    "if password==db_pass:\n",
    "    print(\"Access Granted\")\n",
    "else:\n",
    "    print(\"Access Denied\")\n",
    "        "
   ]
  },
  {
   "cell_type": "code",
   "execution_count": 85,
   "id": "ba887361-655b-4b86-aa41-419fc91790e9",
   "metadata": {},
   "outputs": [
    {
     "name": "stdout",
     "output_type": "stream",
     "text": [
      "Your score is 10\n"
     ]
    }
   ],
   "source": [
    "# User Activity Bonus (Compound Assignment)\n",
    "# If a user performs an activity, increase their score by 10 using +=.\n",
    "\n",
    "score =0\n",
    "activity=True\n",
    "if activity:\n",
    "    score+=10\n",
    "print(f'Your score is {score}')"
   ]
  },
  {
   "cell_type": "markdown",
   "id": "5a5a6e41-d7f5-47b0-b6d9-cc98220458cc",
   "metadata": {},
   "source": [
    "Salary Grade Evaluation (Comparison + Logical OR)\n",
    "If salary is less than 20,000 or job title is \"Intern\", print \"Junior Grade\"."
   ]
  },
  {
   "cell_type": "code",
   "execution_count": 86,
   "id": "ef180d71-1460-4451-9e3d-2233ecf77181",
   "metadata": {},
   "outputs": [
    {
     "name": "stdout",
     "output_type": "stream",
     "text": [
      "Junior Grade\n"
     ]
    }
   ],
   "source": [
    "salary=19999\n",
    "job_title=\"Intern\"\n",
    "if salary<20000 or job_title==\"Intern\":\n",
    "    print(\"Junior Grade\")"
   ]
  },
  {
   "cell_type": "code",
   "execution_count": 91,
   "id": "fece50ff-d63d-4c04-9aa4-5a35bbd8d38f",
   "metadata": {},
   "outputs": [
    {
     "name": "stdin",
     "output_type": "stream",
     "text": [
      "enter an age 36\n",
      "enter your salary 36000\n",
      "enter your credit score 900\n"
     ]
    },
    {
     "name": "stdout",
     "output_type": "stream",
     "text": [
      "approve credit\n"
     ]
    }
   ],
   "source": [
    "# Credit Eligibility (Nested if + Logical)\n",
    "# If age > 21 and income > 30000, check if credit_score > 700 to approve credit.\n",
    "\n",
    "\n",
    "age=int(input(\"enter an age\"))\n",
    "income=float(input(\"enter your salary\"))\n",
    "credit_score=int(input(\"enter your credit score\"))\n",
    "if (age > 21) and (income > 30000):\n",
    "    if credit_score>700:\n",
    "        print(\"approve credit\")"
   ]
  },
  {
   "cell_type": "code",
   "execution_count": 97,
   "id": "7a2be14d-143e-4617-8685-0c6dbc82de38",
   "metadata": {},
   "outputs": [
    {
     "name": "stdout",
     "output_type": "stream",
     "text": [
      "[1, 2, 3, 0, 0, 2, 4, 5]\n"
     ]
    }
   ],
   "source": [
    "# 11. Data Cleaning: Replace Negative with 0 (Ternary Operator)\n",
    "# If a value in dataset is negative (e.g., x = -10), use x = 0 if x < 0 else x.\n",
    "dataset=[1,2,3,-1,-5,2,4,5]\n",
    "new_dataset=[]\n",
    "for x in dataset:\n",
    "    new_dataset.append(0) if x<0 else new_dataset.append(x)\n",
    "print(new_dataset)"
   ]
  },
  {
   "cell_type": "code",
   "execution_count": 102,
   "id": "60969297-8e71-4a82-901f-ca764be9a5ce",
   "metadata": {},
   "outputs": [
    {
     "name": "stdout",
     "output_type": "stream",
     "text": [
      "2025-06-01 is later\n"
     ]
    }
   ],
   "source": [
    "# Compare Dates as Strings (Relational Operator)\n",
    "# Given two dates: \"2025-06-01\" and \"2024-12-31\", check which date is later using >\n",
    "# operator.\n",
    "\n",
    "date1=\"2025-06-01\"\n",
    "date2=\"2024-12-31\"\n",
    "if date1.split('-')[0]>date2.split(\"-\")[0]:\n",
    "    print(f'{date1} is later')\n",
    "elif date1.split(\"-\")[1]>date2.split(\"-\")[1]:\n",
    "    print(f'{date1} is later')\n",
    "elif date1.split(\"-\")[2]>date2.split(\"-\")[2]:\n",
    "    print(f'{date1} is later')\n",
    "else:\n",
    "    print(f'{date2} is later')\n"
   ]
  },
  {
   "cell_type": "code",
   "execution_count": 112,
   "id": "c462ec56-2c92-42d6-aa0d-68f201ade311",
   "metadata": {},
   "outputs": [
    {
     "data": {
      "text/plain": [
       "100"
      ]
     },
     "execution_count": 112,
     "metadata": {},
     "output_type": "execute_result"
    }
   ],
   "source": [
    "# 13. Dynamic Bonus Allocation (Ternary + Logical)\n",
    "# If sales > 5000 and employee_type == 'Full-Time', bonus = 1000 else 500.\n",
    "\n",
    "sales=6000\n",
    "employee_type=\"Full-Time\"\n",
    "bonus=100 if (sales>5000 and employee_type==\"Full-Time\") else 500\n",
    "bonus\n"
   ]
  },
  {
   "cell_type": "code",
   "execution_count": 115,
   "id": "7752ad62-526f-4705-9d67-8cb3860d1aa6",
   "metadata": {},
   "outputs": [
    {
     "name": "stdout",
     "output_type": "stream",
     "text": [
      "25 is median\n"
     ]
    }
   ],
   "source": [
    "# 14. Find the Median of Three Numbers (Chained Comparisons)\n",
    "# Given a, b, and c, use chained comparisons and logical operators to find the median\n",
    "# value.\n",
    "\n",
    "a,b,c=10,25,30\n",
    "if (a<=b<=c) or (c<=b<=a):\n",
    "    print(f'{b} is median')\n",
    "elif (b<=a<=c) or (c<=a<=b):\n",
    "    print(f'{a} is median')\n",
    "else:\n",
    "    print(f'{c} is median')"
   ]
  },
  {
   "cell_type": "code",
   "execution_count": null,
   "id": "10d978d1-84ab-4db8-9bf4-e844267569d1",
   "metadata": {},
   "outputs": [],
   "source": []
  }
 ],
 "metadata": {
  "kernelspec": {
   "display_name": "Python 3 (ipykernel)",
   "language": "python",
   "name": "python3"
  },
  "language_info": {
   "codemirror_mode": {
    "name": "ipython",
    "version": 3
   },
   "file_extension": ".py",
   "mimetype": "text/x-python",
   "name": "python",
   "nbconvert_exporter": "python",
   "pygments_lexer": "ipython3",
   "version": "3.12.3"
  }
 },
 "nbformat": 4,
 "nbformat_minor": 5
}
